{
 "cells": [
  {
   "cell_type": "markdown",
   "metadata": {},
   "source": [
    "# Sparkify Project Workspace\n",
    "This workspace contains a tiny subset (128MB) of the full dataset available (12GB). Feel free to use this workspace to build your project, or to explore a smaller subset with Spark before deploying your cluster on the cloud. Instructions for setting up your Spark cluster is included in the last lesson of the Extracurricular Spark Course content.\n",
    "\n",
    "You can follow the steps below to guide your data analysis and model building portion of this project."
   ]
  },
  {
   "cell_type": "code",
   "execution_count": 50,
   "metadata": {},
   "outputs": [
    {
     "name": "stdout",
     "output_type": "stream",
     "text": [
      "Requirement already satisfied: pyspark in /opt/conda/lib/python3.11/site-packages (3.5.3)\n",
      "Requirement already satisfied: py4j==0.10.9.7 in /opt/conda/lib/python3.11/site-packages (from pyspark) (0.10.9.7)\n",
      "Note: you may need to restart the kernel to use updated packages.\n",
      "Requirement already satisfied: pandas in /opt/conda/lib/python3.11/site-packages (2.0.3)\n",
      "Requirement already satisfied: python-dateutil>=2.8.2 in /opt/conda/lib/python3.11/site-packages (from pandas) (2.8.2)\n",
      "Requirement already satisfied: pytz>=2020.1 in /opt/conda/lib/python3.11/site-packages (from pandas) (2023.3.post1)\n",
      "Requirement already satisfied: tzdata>=2022.1 in /opt/conda/lib/python3.11/site-packages (from pandas) (2023.3)\n",
      "Requirement already satisfied: numpy>=1.21.0 in /opt/conda/lib/python3.11/site-packages (from pandas) (1.24.4)\n",
      "Requirement already satisfied: six>=1.5 in /opt/conda/lib/python3.11/site-packages (from python-dateutil>=2.8.2->pandas) (1.16.0)\n",
      "Note: you may need to restart the kernel to use updated packages.\n",
      "Requirement already satisfied: numpy in /opt/conda/lib/python3.11/site-packages (1.24.4)\n",
      "Note: you may need to restart the kernel to use updated packages.\n",
      "Requirement already satisfied: matplotlib in /opt/conda/lib/python3.11/site-packages (3.8.0)\n",
      "Requirement already satisfied: contourpy>=1.0.1 in /opt/conda/lib/python3.11/site-packages (from matplotlib) (1.1.1)\n",
      "Requirement already satisfied: cycler>=0.10 in /opt/conda/lib/python3.11/site-packages (from matplotlib) (0.12.1)\n",
      "Requirement already satisfied: fonttools>=4.22.0 in /opt/conda/lib/python3.11/site-packages (from matplotlib) (4.43.1)\n",
      "Requirement already satisfied: kiwisolver>=1.0.1 in /opt/conda/lib/python3.11/site-packages (from matplotlib) (1.4.5)\n",
      "Requirement already satisfied: numpy<2,>=1.21 in /opt/conda/lib/python3.11/site-packages (from matplotlib) (1.24.4)\n",
      "Requirement already satisfied: packaging>=20.0 in /opt/conda/lib/python3.11/site-packages (from matplotlib) (23.2)\n",
      "Requirement already satisfied: pillow>=6.2.0 in /opt/conda/lib/python3.11/site-packages (from matplotlib) (10.1.0)\n",
      "Requirement already satisfied: pyparsing>=2.3.1 in /opt/conda/lib/python3.11/site-packages (from matplotlib) (3.1.1)\n",
      "Requirement already satisfied: python-dateutil>=2.7 in /opt/conda/lib/python3.11/site-packages (from matplotlib) (2.8.2)\n",
      "Requirement already satisfied: six>=1.5 in /opt/conda/lib/python3.11/site-packages (from python-dateutil>=2.7->matplotlib) (1.16.0)\n",
      "Note: you may need to restart the kernel to use updated packages.\n",
      "Requirement already satisfied: seaborn in /opt/conda/lib/python3.11/site-packages (0.13.0)\n",
      "Requirement already satisfied: numpy!=1.24.0,>=1.20 in /opt/conda/lib/python3.11/site-packages (from seaborn) (1.24.4)\n",
      "Requirement already satisfied: pandas>=1.2 in /opt/conda/lib/python3.11/site-packages (from seaborn) (2.0.3)\n",
      "Requirement already satisfied: matplotlib!=3.6.1,>=3.3 in /opt/conda/lib/python3.11/site-packages (from seaborn) (3.8.0)\n",
      "Requirement already satisfied: contourpy>=1.0.1 in /opt/conda/lib/python3.11/site-packages (from matplotlib!=3.6.1,>=3.3->seaborn) (1.1.1)\n",
      "Requirement already satisfied: cycler>=0.10 in /opt/conda/lib/python3.11/site-packages (from matplotlib!=3.6.1,>=3.3->seaborn) (0.12.1)\n",
      "Requirement already satisfied: fonttools>=4.22.0 in /opt/conda/lib/python3.11/site-packages (from matplotlib!=3.6.1,>=3.3->seaborn) (4.43.1)\n",
      "Requirement already satisfied: kiwisolver>=1.0.1 in /opt/conda/lib/python3.11/site-packages (from matplotlib!=3.6.1,>=3.3->seaborn) (1.4.5)\n",
      "Requirement already satisfied: packaging>=20.0 in /opt/conda/lib/python3.11/site-packages (from matplotlib!=3.6.1,>=3.3->seaborn) (23.2)\n",
      "Requirement already satisfied: pillow>=6.2.0 in /opt/conda/lib/python3.11/site-packages (from matplotlib!=3.6.1,>=3.3->seaborn) (10.1.0)\n",
      "Requirement already satisfied: pyparsing>=2.3.1 in /opt/conda/lib/python3.11/site-packages (from matplotlib!=3.6.1,>=3.3->seaborn) (3.1.1)\n",
      "Requirement already satisfied: python-dateutil>=2.7 in /opt/conda/lib/python3.11/site-packages (from matplotlib!=3.6.1,>=3.3->seaborn) (2.8.2)\n",
      "Requirement already satisfied: pytz>=2020.1 in /opt/conda/lib/python3.11/site-packages (from pandas>=1.2->seaborn) (2023.3.post1)\n",
      "Requirement already satisfied: tzdata>=2022.1 in /opt/conda/lib/python3.11/site-packages (from pandas>=1.2->seaborn) (2023.3)\n",
      "Requirement already satisfied: six>=1.5 in /opt/conda/lib/python3.11/site-packages (from python-dateutil>=2.7->matplotlib!=3.6.1,>=3.3->seaborn) (1.16.0)\n",
      "Note: you may need to restart the kernel to use updated packages.\n"
     ]
    }
   ],
   "source": [
    "%pip install pyspark\n",
    "%pip install pandas\n",
    "%pip install numpy\n",
    "%pip install matplotlib\n",
    "%pip install seaborn\n"
   ]
  },
  {
   "cell_type": "code",
   "execution_count": 227,
   "metadata": {},
   "outputs": [],
   "source": [
    "import os\n",
    "import pandas as pd\n",
    "import pyspark as ps\n",
    "import matplotlib.pyplot as plt\n",
    "import seaborn as sns\n",
    "%matplotlib inline\n",
    "\n",
    "from pyspark.sql import SparkSession\n",
    "from pyspark.ml.feature import StandardScaler, VectorAssembler\n",
    "from pyspark.ml.tuning import CrossValidator, ParamGridBuilder\n",
    "from pyspark.ml.evaluation import MulticlassClassificationEvaluator\n",
    "from pyspark.ml.classification import LogisticRegression, DecisionTreeClassifier,RandomForestClassifier, LinearSVC"
   ]
  },
  {
   "cell_type": "code",
   "execution_count": 52,
   "metadata": {},
   "outputs": [],
   "source": [
    "plt.rcParams[\"figure.figsize\"] = (6, 5)"
   ]
  },
  {
   "cell_type": "code",
   "execution_count": 53,
   "metadata": {},
   "outputs": [],
   "source": [
    "# create a spark session\n",
    "spark = SparkSession.builder.appName('Sparkify').getOrCreate()"
   ]
  },
  {
   "cell_type": "markdown",
   "metadata": {},
   "source": [
    "# Load and Clean Dataset\n",
    "In this workspace, the mini-dataset file is mini_sparkify_event_data.json. Load and clean the dataset, checking for invalid or missing data - for example, records without userids or sessionids."
   ]
  },
  {
   "cell_type": "code",
   "execution_count": 54,
   "metadata": {},
   "outputs": [
    {
     "name": "stdout",
     "output_type": "stream",
     "text": [
      "+----------------+---------+---------+------+-------------+--------+---------+-----+--------------------+------+--------+-------------+---------+--------------------+------+-------------+--------------------+------+\n",
      "|          artist|     auth|firstName|gender|itemInSession|lastName|   length|level|            location|method|    page| registration|sessionId|                song|status|           ts|           userAgent|userId|\n",
      "+----------------+---------+---------+------+-------------+--------+---------+-----+--------------------+------+--------+-------------+---------+--------------------+------+-------------+--------------------+------+\n",
      "|  Martha Tilston|Logged In|    Colin|     M|           50| Freeman|277.89016| paid|     Bakersfield, CA|   PUT|NextSong|1538173362000|       29|           Rockpools|   200|1538352117000|Mozilla/5.0 (Wind...|    30|\n",
      "|Five Iron Frenzy|Logged In|    Micah|     M|           79|    Long|236.09424| free|Boston-Cambridge-...|   PUT|NextSong|1538331630000|        8|              Canada|   200|1538352180000|\"Mozilla/5.0 (Win...|     9|\n",
      "|    Adam Lambert|Logged In|    Colin|     M|           51| Freeman| 282.8273| paid|     Bakersfield, CA|   PUT|NextSong|1538173362000|       29|   Time For Miracles|   200|1538352394000|Mozilla/5.0 (Wind...|    30|\n",
      "|          Enigma|Logged In|    Micah|     M|           80|    Long|262.71302| free|Boston-Cambridge-...|   PUT|NextSong|1538331630000|        8|Knocking On Forbi...|   200|1538352416000|\"Mozilla/5.0 (Win...|     9|\n",
      "|       Daft Punk|Logged In|    Colin|     M|           52| Freeman|223.60771| paid|     Bakersfield, CA|   PUT|NextSong|1538173362000|       29|Harder Better Fas...|   200|1538352676000|Mozilla/5.0 (Wind...|    30|\n",
      "+----------------+---------+---------+------+-------------+--------+---------+-----+--------------------+------+--------+-------------+---------+--------------------+------+-------------+--------------------+------+\n",
      "only showing top 5 rows\n",
      "\n"
     ]
    }
   ],
   "source": [
    "df = spark.read.json(\"Project-4/mini_sparkify_event_data.json\")\n",
    "df.show(5)"
   ]
  },
  {
   "cell_type": "code",
   "execution_count": 55,
   "metadata": {},
   "outputs": [
    {
     "name": "stdout",
     "output_type": "stream",
     "text": [
      "+-------+------------------+----------+---------+------+------------------+--------+------------------+------+-----------------+------+-------+--------------------+-----------------+--------------------+------------------+--------------------+--------------------+------------------+\n",
      "|summary|            artist|      auth|firstName|gender|     itemInSession|lastName|            length| level|         location|method|   page|        registration|        sessionId|                song|            status|                  ts|           userAgent|            userId|\n",
      "+-------+------------------+----------+---------+------+------------------+--------+------------------+------+-----------------+------+-------+--------------------+-----------------+--------------------+------------------+--------------------+--------------------+------------------+\n",
      "|  count|            228108|    286500|   278154|278154|            286500|  278154|            228108|286500|           278154|286500| 286500|              278154|           286500|              228108|            286500|              286500|              278154|            286500|\n",
      "|   mean| 551.0852017937219|      NULL|     NULL|  NULL|114.41421291448516|    NULL|249.11718197783722|  NULL|             NULL|  NULL|   NULL|1.535358834085557E12|1041.526554973822|            Infinity|210.05459685863875|1.540956889810471...|                NULL| 59682.02278593872|\n",
      "| stddev|1217.7693079161374|      NULL|     NULL|  NULL|129.76726201141085|    NULL| 99.23517921058324|  NULL|             NULL|  NULL|   NULL| 3.291321616328068E9|726.7762634630834|                 NaN| 31.50507848842202|1.5075439608187113E9|                NULL|109091.94999910519|\n",
      "|    min|               !!!| Cancelled| Adelaida|     F|                 0|   Adams|           0.78322|  free|       Albany, OR|   GET|  About|       1521380675000|                1|\u001cÃÂg ÃÂtti Gr...|               200|       1538352117000|\"Mozilla/5.0 (Mac...|                  |\n",
      "|    max| ÃÂlafur Arnalds|Logged Out|   Zyonna|     M|              1321|  Wright|        3024.66567|  paid|Winston-Salem, NC|   PUT|Upgrade|       1543247354000|             2474|ÃÂau hafa slopp...|               404|       1543799476000|Mozilla/5.0 (comp...|                99|\n",
      "+-------+------------------+----------+---------+------+------------------+--------+------------------+------+-----------------+------+-------+--------------------+-----------------+--------------------+------------------+--------------------+--------------------+------------------+\n",
      "\n"
     ]
    }
   ],
   "source": [
    "df.describe().show()"
   ]
  },
  {
   "cell_type": "markdown",
   "metadata": {},
   "source": [
    "*Small Notes: I do prefer visualize and EDA using pandas, it's seem easy to preview with built-in VScode function*\n",
    "\n",
    "However, in the scope of practise with Spark, I will only use Pandas for cleaning and (later) use PySpark to do EDA."
   ]
  },
  {
   "cell_type": "code",
   "execution_count": 56,
   "metadata": {},
   "outputs": [],
   "source": [
    "df = pd.read_json('Project-4/mini_sparkify_event_data.json', lines=True)"
   ]
  },
  {
   "cell_type": "code",
   "execution_count": 57,
   "metadata": {},
   "outputs": [
    {
     "data": {
      "text/html": [
       "<div>\n",
       "<style scoped>\n",
       "    .dataframe tbody tr th:only-of-type {\n",
       "        vertical-align: middle;\n",
       "    }\n",
       "\n",
       "    .dataframe tbody tr th {\n",
       "        vertical-align: top;\n",
       "    }\n",
       "\n",
       "    .dataframe thead th {\n",
       "        text-align: right;\n",
       "    }\n",
       "</style>\n",
       "<table border=\"1\" class=\"dataframe\">\n",
       "  <thead>\n",
       "    <tr style=\"text-align: right;\">\n",
       "      <th></th>\n",
       "      <th>ts</th>\n",
       "      <th>sessionId</th>\n",
       "      <th>status</th>\n",
       "      <th>itemInSession</th>\n",
       "      <th>registration</th>\n",
       "      <th>length</th>\n",
       "    </tr>\n",
       "  </thead>\n",
       "  <tbody>\n",
       "    <tr>\n",
       "      <th>count</th>\n",
       "      <td>2.865000e+05</td>\n",
       "      <td>286500.000000</td>\n",
       "      <td>286500.000000</td>\n",
       "      <td>286500.000000</td>\n",
       "      <td>2.781540e+05</td>\n",
       "      <td>228108.000000</td>\n",
       "    </tr>\n",
       "    <tr>\n",
       "      <th>mean</th>\n",
       "      <td>1.540957e+12</td>\n",
       "      <td>1041.526555</td>\n",
       "      <td>210.054597</td>\n",
       "      <td>114.414213</td>\n",
       "      <td>1.535359e+12</td>\n",
       "      <td>249.117182</td>\n",
       "    </tr>\n",
       "    <tr>\n",
       "      <th>std</th>\n",
       "      <td>1.507544e+09</td>\n",
       "      <td>726.776263</td>\n",
       "      <td>31.505078</td>\n",
       "      <td>129.767262</td>\n",
       "      <td>3.291322e+09</td>\n",
       "      <td>99.235179</td>\n",
       "    </tr>\n",
       "    <tr>\n",
       "      <th>min</th>\n",
       "      <td>1.538352e+12</td>\n",
       "      <td>1.000000</td>\n",
       "      <td>200.000000</td>\n",
       "      <td>0.000000</td>\n",
       "      <td>1.521381e+12</td>\n",
       "      <td>0.783220</td>\n",
       "    </tr>\n",
       "    <tr>\n",
       "      <th>25%</th>\n",
       "      <td>1.539697e+12</td>\n",
       "      <td>336.000000</td>\n",
       "      <td>200.000000</td>\n",
       "      <td>27.000000</td>\n",
       "      <td>1.533522e+12</td>\n",
       "      <td>199.888530</td>\n",
       "    </tr>\n",
       "    <tr>\n",
       "      <th>50%</th>\n",
       "      <td>1.540932e+12</td>\n",
       "      <td>1013.000000</td>\n",
       "      <td>200.000000</td>\n",
       "      <td>70.000000</td>\n",
       "      <td>1.536664e+12</td>\n",
       "      <td>234.500770</td>\n",
       "    </tr>\n",
       "    <tr>\n",
       "      <th>75%</th>\n",
       "      <td>1.542266e+12</td>\n",
       "      <td>1675.000000</td>\n",
       "      <td>200.000000</td>\n",
       "      <td>156.250000</td>\n",
       "      <td>1.537672e+12</td>\n",
       "      <td>277.158730</td>\n",
       "    </tr>\n",
       "    <tr>\n",
       "      <th>max</th>\n",
       "      <td>1.543799e+12</td>\n",
       "      <td>2474.000000</td>\n",
       "      <td>404.000000</td>\n",
       "      <td>1321.000000</td>\n",
       "      <td>1.543247e+12</td>\n",
       "      <td>3024.665670</td>\n",
       "    </tr>\n",
       "  </tbody>\n",
       "</table>\n",
       "</div>"
      ],
      "text/plain": [
       "                 ts      sessionId         status  itemInSession  \\\n",
       "count  2.865000e+05  286500.000000  286500.000000  286500.000000   \n",
       "mean   1.540957e+12    1041.526555     210.054597     114.414213   \n",
       "std    1.507544e+09     726.776263      31.505078     129.767262   \n",
       "min    1.538352e+12       1.000000     200.000000       0.000000   \n",
       "25%    1.539697e+12     336.000000     200.000000      27.000000   \n",
       "50%    1.540932e+12    1013.000000     200.000000      70.000000   \n",
       "75%    1.542266e+12    1675.000000     200.000000     156.250000   \n",
       "max    1.543799e+12    2474.000000     404.000000    1321.000000   \n",
       "\n",
       "       registration         length  \n",
       "count  2.781540e+05  228108.000000  \n",
       "mean   1.535359e+12     249.117182  \n",
       "std    3.291322e+09      99.235179  \n",
       "min    1.521381e+12       0.783220  \n",
       "25%    1.533522e+12     199.888530  \n",
       "50%    1.536664e+12     234.500770  \n",
       "75%    1.537672e+12     277.158730  \n",
       "max    1.543247e+12    3024.665670  "
      ]
     },
     "execution_count": 57,
     "metadata": {},
     "output_type": "execute_result"
    }
   ],
   "source": [
    "df.describe()"
   ]
  },
  {
   "cell_type": "code",
   "execution_count": 58,
   "metadata": {},
   "outputs": [
    {
     "data": {
      "text/plain": [
       "ts                   0\n",
       "userId               0\n",
       "sessionId            0\n",
       "page                 0\n",
       "auth                 0\n",
       "method               0\n",
       "status               0\n",
       "level                0\n",
       "itemInSession        0\n",
       "location          8346\n",
       "userAgent         8346\n",
       "lastName          8346\n",
       "firstName         8346\n",
       "registration      8346\n",
       "gender            8346\n",
       "artist           58392\n",
       "song             58392\n",
       "length           58392\n",
       "dtype: int64"
      ]
     },
     "execution_count": 58,
     "metadata": {},
     "output_type": "execute_result"
    }
   ],
   "source": [
    "df.isna().sum()"
   ]
  },
  {
   "cell_type": "code",
   "execution_count": 59,
   "metadata": {},
   "outputs": [
    {
     "data": {
      "text/plain": [
       "8346"
      ]
     },
     "execution_count": 59,
     "metadata": {},
     "output_type": "execute_result"
    }
   ],
   "source": [
    "# Count empty userId\n",
    "len(df[df['userId'] == ''])"
   ]
  },
  {
   "cell_type": "code",
   "execution_count": 60,
   "metadata": {},
   "outputs": [],
   "source": [
    "# Clear instance with empty userId\n",
    "df_clean = df[df.userId != '']"
   ]
  },
  {
   "cell_type": "code",
   "execution_count": 61,
   "metadata": {},
   "outputs": [
    {
     "data": {
      "text/plain": [
       "0"
      ]
     },
     "execution_count": 61,
     "metadata": {},
     "output_type": "execute_result"
    }
   ],
   "source": [
    "len(df[df['sessionId'] == ''])\n",
    "# No NA value in sessionId"
   ]
  },
  {
   "cell_type": "code",
   "execution_count": 62,
   "metadata": {},
   "outputs": [
    {
     "data": {
      "text/plain": [
       "0         1538352117000\n",
       "1         1538352180000\n",
       "2         1538352394000\n",
       "3         1538352416000\n",
       "4         1538352676000\n",
       "              ...      \n",
       "286495    1543622240000\n",
       "286496    1543622241000\n",
       "286497    1543622248000\n",
       "286498    1543622398000\n",
       "286499    1543622411000\n",
       "Name: ts, Length: 286500, dtype: int64"
      ]
     },
     "execution_count": 62,
     "metadata": {},
     "output_type": "execute_result"
    }
   ],
   "source": [
    "# Convert timestamp and registration to datetime\n",
    "df['ts']"
   ]
  },
  {
   "cell_type": "code",
   "execution_count": 63,
   "metadata": {},
   "outputs": [
    {
     "name": "stderr",
     "output_type": "stream",
     "text": [
      "/tmp/ipykernel_10403/1372992459.py:5: SettingWithCopyWarning: \n",
      "A value is trying to be set on a copy of a slice from a DataFrame.\n",
      "Try using .loc[row_indexer,col_indexer] = value instead\n",
      "\n",
      "See the caveats in the documentation: https://pandas.pydata.org/pandas-docs/stable/user_guide/indexing.html#returning-a-view-versus-a-copy\n",
      "  df_clean['time'] = df_clean['ts'].apply(convert_ts)\n",
      "/tmp/ipykernel_10403/1372992459.py:6: SettingWithCopyWarning: \n",
      "A value is trying to be set on a copy of a slice from a DataFrame.\n",
      "Try using .loc[row_indexer,col_indexer] = value instead\n",
      "\n",
      "See the caveats in the documentation: https://pandas.pydata.org/pandas-docs/stable/user_guide/indexing.html#returning-a-view-versus-a-copy\n",
      "  df_clean['regis_time'] = df_clean['registration'].apply(convert_ts)\n"
     ]
    }
   ],
   "source": [
    "import datetime\n",
    "def convert_ts(ts): \n",
    "    return datetime.datetime.fromtimestamp(ts / 1000.0).strftime(\"%Y-%m-%d %H:%M:%S\")\n",
    "\n",
    "df_clean['time'] = df_clean['ts'].apply(convert_ts)\n",
    "df_clean['regis_time'] = df_clean['registration'].apply(convert_ts)"
   ]
  },
  {
   "cell_type": "code",
   "execution_count": 64,
   "metadata": {},
   "outputs": [
    {
     "data": {
      "text/plain": [
       "count                  278154\n",
       "unique                 269770\n",
       "top       2018-10-06 00:35:40\n",
       "freq                        4\n",
       "Name: time, dtype: object"
      ]
     },
     "execution_count": 64,
     "metadata": {},
     "output_type": "execute_result"
    }
   ],
   "source": [
    "df_clean['time'].describe()"
   ]
  },
  {
   "cell_type": "code",
   "execution_count": 65,
   "metadata": {},
   "outputs": [
    {
     "data": {
      "text/plain": [
       "count                  278154\n",
       "unique                    225\n",
       "top       2018-06-15 01:52:21\n",
       "freq                     9632\n",
       "Name: regis_time, dtype: object"
      ]
     },
     "execution_count": 65,
     "metadata": {},
     "output_type": "execute_result"
    }
   ],
   "source": [
    "df_clean['regis_time'].describe()"
   ]
  },
  {
   "cell_type": "code",
   "execution_count": 66,
   "metadata": {},
   "outputs": [
    {
     "name": "stderr",
     "output_type": "stream",
     "text": [
      "/tmp/ipykernel_10403/1680293738.py:7: SettingWithCopyWarning: \n",
      "A value is trying to be set on a copy of a slice from a DataFrame.\n",
      "Try using .loc[row_indexer,col_indexer] = value instead\n",
      "\n",
      "See the caveats in the documentation: https://pandas.pydata.org/pandas-docs/stable/user_guide/indexing.html#returning-a-view-versus-a-copy\n",
      "  df_clean['joined_days'] = df_clean.apply(lambda x: get_duration(x['ts'], x['registration']), axis=1)\n"
     ]
    }
   ],
   "source": [
    "# From current timestamp and registration date\n",
    "# We can calculate the number of days since registration\n",
    "\n",
    "def get_duration(x, y):\n",
    "    return float((x-y)/(1000*60*60*24))\n",
    "\n",
    "df_clean['joined_days'] = df_clean.apply(lambda x: get_duration(x['ts'], x['registration']), axis=1)"
   ]
  },
  {
   "cell_type": "code",
   "execution_count": 67,
   "metadata": {},
   "outputs": [],
   "source": [
    "df_clean.to_json(\"mini_sparkify_clean.json\", lines=True, orient='records')"
   ]
  },
  {
   "cell_type": "markdown",
   "metadata": {},
   "source": [
    "# Exploratory Data Analysis\n",
    "When you're working with the full dataset, perform EDA by loading a small subset of the data and doing basic manipulations within Spark. In this workspace, you are already provided a small subset of data you can explore.\n",
    "\n",
    "## Define Churn\n",
    "Once you've done some preliminary analysis, create a column Churn to use as the label for your model. I suggest using the Cancellation Confirmation events to define your churn, which happen for both paid and free users. As a bonus task, you can also look into the Downgrade events.\n",
    "\n",
    "## Explore Data\n",
    "Once you've defined churn, perform some exploratory data analysis to observe the behavior for users who stayed vs users who churned. You can start by exploring aggregates on these two groups of users, observing how much of a specific action they experienced per a certain time unit or number of songs played."
   ]
  },
  {
   "cell_type": "code",
   "execution_count": 68,
   "metadata": {},
   "outputs": [
    {
     "name": "stdout",
     "output_type": "stream",
     "text": [
      "+----------------+---------+---------+------+-------------+------------+--------+---------+-----+--------------------+------+--------+-------------------+--------------+---------+--------------------+------+-------------------+-------------+--------------------+------+\n",
      "|          artist|     auth|firstName|gender|itemInSession| joined_days|lastName|   length|level|            location|method|    page|         regis_time|  registration|sessionId|                song|status|               time|           ts|           userAgent|userId|\n",
      "+----------------+---------+---------+------+-------------+------------+--------+---------+-----+--------------------+------+--------+-------------------+--------------+---------+--------------------+------+-------------------+-------------+--------------------+------+\n",
      "|  Martha Tilston|Logged In|    Colin|     M|           50|2.0689236111| Freeman|277.89016| paid|     Bakersfield, CA|   PUT|NextSong|2018-09-28 22:22:42|1.538173362E12|       29|           Rockpools|   200|2018-10-01 00:01:57|1538352117000|Mozilla/5.0 (Wind...|    30|\n",
      "|Five Iron Frenzy|Logged In|    Micah|     M|           79|0.2378472222|    Long|236.09424| free|Boston-Cambridge-...|   PUT|NextSong|2018-09-30 18:20:30| 1.53833163E12|        8|              Canada|   200|2018-10-01 00:03:00|1538352180000|\"Mozilla/5.0 (Win...|     9|\n",
      "|    Adam Lambert|Logged In|    Colin|     M|           51|2.0721296296| Freeman| 282.8273| paid|     Bakersfield, CA|   PUT|NextSong|2018-09-28 22:22:42|1.538173362E12|       29|   Time For Miracles|   200|2018-10-01 00:06:34|1538352394000|Mozilla/5.0 (Wind...|    30|\n",
      "|          Enigma|Logged In|    Micah|     M|           80|0.2405787037|    Long|262.71302| free|Boston-Cambridge-...|   PUT|NextSong|2018-09-30 18:20:30| 1.53833163E12|        8|Knocking On Forbi...|   200|2018-10-01 00:06:56|1538352416000|\"Mozilla/5.0 (Win...|     9|\n",
      "|       Daft Punk|Logged In|    Colin|     M|           52|2.0753935185| Freeman|223.60771| paid|     Bakersfield, CA|   PUT|NextSong|2018-09-28 22:22:42|1.538173362E12|       29|Harder Better Fas...|   200|2018-10-01 00:11:16|1538352676000|Mozilla/5.0 (Wind...|    30|\n",
      "+----------------+---------+---------+------+-------------+------------+--------+---------+-----+--------------------+------+--------+-------------------+--------------+---------+--------------------+------+-------------------+-------------+--------------------+------+\n",
      "only showing top 5 rows\n",
      "\n"
     ]
    }
   ],
   "source": [
    "df = spark.read.json(\"mini_sparkify_clean.json\")\n",
    "df.show(5)"
   ]
  },
  {
   "cell_type": "markdown",
   "metadata": {},
   "source": [
    "**Q1: How many users do we have in the dataset and how many of them have left the service?** (Cancel the subscription)"
   ]
  },
  {
   "cell_type": "code",
   "execution_count": 69,
   "metadata": {},
   "outputs": [
    {
     "data": {
      "text/plain": [
       "225"
      ]
     },
     "execution_count": 69,
     "metadata": {},
     "output_type": "execute_result"
    }
   ],
   "source": [
    "df.select('userId').dropDuplicates().count()"
   ]
  },
  {
   "cell_type": "code",
   "execution_count": 70,
   "metadata": {},
   "outputs": [
    {
     "name": "stdout",
     "output_type": "stream",
     "text": [
      "+--------------------+------+\n",
      "|                page| count|\n",
      "+--------------------+------+\n",
      "|              Cancel|    52|\n",
      "|    Submit Downgrade|    63|\n",
      "|         Thumbs Down|  2546|\n",
      "|                Home| 10082|\n",
      "|           Downgrade|  2055|\n",
      "|         Roll Advert|  3933|\n",
      "|              Logout|  3226|\n",
      "|       Save Settings|   310|\n",
      "|Cancellation Conf...|    52|\n",
      "|               About|   495|\n",
      "|            Settings|  1514|\n",
      "|     Add to Playlist|  6526|\n",
      "|          Add Friend|  4277|\n",
      "|            NextSong|228108|\n",
      "|           Thumbs Up| 12551|\n",
      "|                Help|  1454|\n",
      "|             Upgrade|   499|\n",
      "|               Error|   252|\n",
      "|      Submit Upgrade|   159|\n",
      "+--------------------+------+\n",
      "\n"
     ]
    }
   ],
   "source": [
    "df.groupBy(\"page\").count().show()"
   ]
  },
  {
   "cell_type": "markdown",
   "metadata": {},
   "source": [
    "There are 225 users in total and 52 of them have canceled their subscription.\n",
    "\n",
    "**Q2: Does the gender of the user have an impact on the churn rate?**"
   ]
  },
  {
   "cell_type": "code",
   "execution_count": 71,
   "metadata": {},
   "outputs": [],
   "source": [
    "import pyspark.sql.functions as F\n",
    "from pyspark.sql.functions import col, udf\n",
    "from pyspark.sql.types import IntegerType"
   ]
  },
  {
   "cell_type": "code",
   "execution_count": 72,
   "metadata": {},
   "outputs": [
    {
     "name": "stdout",
     "output_type": "stream",
     "text": [
      "+--------------------+---------+---------+------+-------------+-------------+--------+---------+-----+--------------------+------+---------------+-------------------+--------------+---------+--------------------+------+-------------------+-------------+--------------------+------+-----+\n",
      "|              artist|     auth|firstName|gender|itemInSession|  joined_days|lastName|   length|level|            location|method|           page|         regis_time|  registration|sessionId|                song|status|               time|           ts|           userAgent|userId|churn|\n",
      "+--------------------+---------+---------+------+-------------+-------------+--------+---------+-----+--------------------+------+---------------+-------------------+--------------+---------+--------------------+------+-------------------+-------------+--------------------+------+-----+\n",
      "|      Martha Tilston|Logged In|    Colin|     M|           50| 2.0689236111| Freeman|277.89016| paid|     Bakersfield, CA|   PUT|       NextSong|2018-09-28 22:22:42|1.538173362E12|       29|           Rockpools|   200|2018-10-01 00:01:57|1538352117000|Mozilla/5.0 (Wind...|    30|    0|\n",
      "|    Five Iron Frenzy|Logged In|    Micah|     M|           79| 0.2378472222|    Long|236.09424| free|Boston-Cambridge-...|   PUT|       NextSong|2018-09-30 18:20:30| 1.53833163E12|        8|              Canada|   200|2018-10-01 00:03:00|1538352180000|\"Mozilla/5.0 (Win...|     9|    0|\n",
      "|        Adam Lambert|Logged In|    Colin|     M|           51| 2.0721296296| Freeman| 282.8273| paid|     Bakersfield, CA|   PUT|       NextSong|2018-09-28 22:22:42|1.538173362E12|       29|   Time For Miracles|   200|2018-10-01 00:06:34|1538352394000|Mozilla/5.0 (Wind...|    30|    0|\n",
      "|              Enigma|Logged In|    Micah|     M|           80| 0.2405787037|    Long|262.71302| free|Boston-Cambridge-...|   PUT|       NextSong|2018-09-30 18:20:30| 1.53833163E12|        8|Knocking On Forbi...|   200|2018-10-01 00:06:56|1538352416000|\"Mozilla/5.0 (Win...|     9|    0|\n",
      "|           Daft Punk|Logged In|    Colin|     M|           52| 2.0753935185| Freeman|223.60771| paid|     Bakersfield, CA|   PUT|       NextSong|2018-09-28 22:22:42|1.538173362E12|       29|Harder Better Fas...|   200|2018-10-01 00:11:16|1538352676000|Mozilla/5.0 (Wind...|    30|    0|\n",
      "|The All-American ...|Logged In|    Micah|     M|           81| 0.2436111111|    Long|208.29995| free|Boston-Cambridge-...|   PUT|       NextSong|2018-09-30 18:20:30| 1.53833163E12|        8|      Don't Leave Me|   200|2018-10-01 00:11:18|1538352678000|\"Mozilla/5.0 (Win...|     9|    0|\n",
      "|The Velvet Underg...|Logged In|    Micah|     M|           82| 0.2460185185|    Long|260.46649| free|Boston-Cambridge-...|   PUT|       NextSong|2018-09-30 18:20:30| 1.53833163E12|        8|         Run Run Run|   200|2018-10-01 00:14:46|1538352886000|\"Mozilla/5.0 (Win...|     9|    0|\n",
      "|        Starflyer 59|Logged In|    Colin|     M|           53|  2.077974537| Freeman|185.44281| paid|     Bakersfield, CA|   PUT|       NextSong|2018-09-28 22:22:42|1.538173362E12|       29|Passengers (Old A...|   200|2018-10-01 00:14:59|1538352899000|Mozilla/5.0 (Wind...|    30|    0|\n",
      "|                NULL|Logged In|    Colin|     M|           54| 2.0780439815| Freeman|     NULL| paid|     Bakersfield, CA|   PUT|Add to Playlist|2018-09-28 22:22:42|1.538173362E12|       29|                NULL|   200|2018-10-01 00:15:05|1538352905000|Mozilla/5.0 (Wind...|    30|    0|\n",
      "|            Frumpies|Logged In|    Colin|     M|           55| 2.0801157407| Freeman|134.47791| paid|     Bakersfield, CA|   PUT|       NextSong|2018-09-28 22:22:42|1.538173362E12|       29|          Fuck Kitty|   200|2018-10-01 00:18:04|1538353084000|Mozilla/5.0 (Wind...|    30|    0|\n",
      "|        Britt Nicole|Logged In|    Micah|     M|           83| 0.2490277778|    Long| 229.8771| free|Boston-Cambridge-...|   PUT|       NextSong|2018-09-30 18:20:30| 1.53833163E12|        8|   Walk On The Water|   200|2018-10-01 00:19:06|1538353146000|\"Mozilla/5.0 (Win...|     9|    0|\n",
      "|                NULL|Logged In|    Micah|     M|           84| 0.2490740741|    Long|     NULL| free|Boston-Cambridge-...|   GET|    Roll Advert|2018-09-30 18:20:30| 1.53833163E12|        8|                NULL|   200|2018-10-01 00:19:10|1538353150000|\"Mozilla/5.0 (Win...|     9|    0|\n",
      "|Edward Sharpe & T...|Logged In|    Colin|     M|           56| 2.0816666667| Freeman|223.58159| paid|     Bakersfield, CA|   PUT|       NextSong|2018-09-28 22:22:42|1.538173362E12|       29|                Jade|   200|2018-10-01 00:20:18|1538353218000|Mozilla/5.0 (Wind...|    30|    0|\n",
      "|               Tesla|Logged In|    Micah|     M|           85| 0.2516782407|    Long|201.06404| free|Boston-Cambridge-...|   PUT|       NextSong|2018-09-30 18:20:30| 1.53833163E12|        8|      Gettin' Better|   200|2018-10-01 00:22:55|1538353375000|\"Mozilla/5.0 (Win...|     9|    0|\n",
      "|                NULL|Logged In|    Micah|     M|           86| 0.2516898148|    Long|     NULL| free|Boston-Cambridge-...|   PUT|      Thumbs Up|2018-09-30 18:20:30| 1.53833163E12|        8|                NULL|   307|2018-10-01 00:22:56|1538353376000|\"Mozilla/5.0 (Win...|     9|    0|\n",
      "|         Stan Mosley|Logged In|    Colin|     M|           57| 2.0842476852| Freeman|246.69995| paid|     Bakersfield, CA|   PUT|       NextSong|2018-09-28 22:22:42|1.538173362E12|       29|   So-Called Friends|   200|2018-10-01 00:24:01|1538353441000|Mozilla/5.0 (Wind...|    30|    0|\n",
      "|Florence + The Ma...|Logged In|    Micah|     M|           87| 0.2540046296|    Long|168.64608| free|Boston-Cambridge-...|   PUT|       NextSong|2018-09-30 18:20:30| 1.53833163E12|        8| You've Got The Love|   200|2018-10-01 00:26:16|1538353576000|\"Mozilla/5.0 (Win...|     9|    0|\n",
      "|   Tokyo Police Club|Logged In|  Ashlynn|     F|            0|11.4403819444|Williams| 166.1122| free|     Tallahassee, FL|   PUT|       NextSong|2018-09-19 13:53:39|1.537365219E12|      217|Citizens Of Tomorrow|   200|2018-10-01 00:27:48|1538353668000|\"Mozilla/5.0 (Mac...|    74|    0|\n",
      "|             Orishas|Logged In|    Colin|     M|           58| 2.0870949074| Freeman|222.22322| paid|     Bakersfield, CA|   PUT|       NextSong|2018-09-28 22:22:42|1.538173362E12|       29|           Represent|   200|2018-10-01 00:28:07|1538353687000|Mozilla/5.0 (Wind...|    30|    0|\n",
      "|             Ratatat|Logged In|    Micah|     M|           88| 0.2559490741|    Long|229.77261| free|Boston-Cambridge-...|   PUT|       NextSong|2018-09-30 18:20:30| 1.53833163E12|        8|              Swisha|   200|2018-10-01 00:29:04|1538353744000|\"Mozilla/5.0 (Win...|     9|    0|\n",
      "+--------------------+---------+---------+------+-------------+-------------+--------+---------+-----+--------------------+------+---------------+-------------------+--------------+---------+--------------------+------+-------------------+-------------+--------------------+------+-----+\n",
      "only showing top 20 rows\n",
      "\n"
     ]
    }
   ],
   "source": [
    "def churn_convert(example):\n",
    "    return 1 if example == \"Cancellation Confirmation\" else 0\n",
    "\n",
    "# df['churn'] = df['page'].apply(annotate_churn)\n",
    "churn_convert_UDF = F.udf(lambda x: churn_convert(x), IntegerType())\n",
    "df = df.withColumn(\"churn\", churn_convert_UDF(col(\"page\")))\n",
    "df.show()"
   ]
  },
  {
   "cell_type": "code",
   "execution_count": 73,
   "metadata": {},
   "outputs": [
    {
     "name": "stdout",
     "output_type": "stream",
     "text": [
      "+-----+-----+\n",
      "|churn|count|\n",
      "+-----+-----+\n",
      "|    1|   52|\n",
      "|    0|  225|\n",
      "+-----+-----+\n",
      "\n"
     ]
    }
   ],
   "source": [
    "df.select(['userId', 'churn']).dropDuplicates().groupBy('churn').count().show()"
   ]
  },
  {
   "cell_type": "code",
   "execution_count": 74,
   "metadata": {},
   "outputs": [
    {
     "name": "stdout",
     "output_type": "stream",
     "text": [
      "+------+-----+-----+\n",
      "|gender|churn|count|\n",
      "+------+-----+-----+\n",
      "|     M|    1|   32|\n",
      "|     F|    0|  104|\n",
      "|     F|    1|   20|\n",
      "|     M|    0|  121|\n",
      "+------+-----+-----+\n",
      "\n"
     ]
    }
   ],
   "source": [
    "gender_df = df.select(['gender', 'userId', 'churn']).dropDuplicates().groupBy('gender', 'churn').count()\n",
    "gender_df.show()"
   ]
  },
  {
   "cell_type": "code",
   "execution_count": 75,
   "metadata": {},
   "outputs": [
    {
     "data": {
      "text/plain": [
       "<Axes: xlabel='churn', ylabel='count'>"
      ]
     },
     "execution_count": 75,
     "metadata": {},
     "output_type": "execute_result"
    },
    {
     "data": {
      "image/png": "[encoded data removed]",
      "text/plain": [
       "<Figure size 600x500 with 1 Axes>"
      ]
     },
     "metadata": {},
     "output_type": "display_data"
    }
   ],
   "source": [
    "sns.set(style=\"whitegrid\")\n",
    "sns.barplot(x='churn', y='count', data=gender_df.toPandas(), hue='gender')"
   ]
  },
  {
   "cell_type": "markdown",
   "metadata": {},
   "source": [
    "From the chart, the turnover rate of male users are higher than female users.\n",
    "However, this might not indicate well the actual situation since the number of male users are more than female users.\n",
    "\n",
    "I wonder if the user that churned have spent more time on the app than the user that not churned.\n",
    "\n",
    "**Q3: How long do users spend on the app before they churn?**"
   ]
  },
  {
   "cell_type": "code",
   "execution_count": 76,
   "metadata": {},
   "outputs": [
    {
     "data": {
      "text/plain": [
       "array([[<Axes: title={'center': 'length'}>]], dtype=object)"
      ]
     },
     "execution_count": 76,
     "metadata": {},
     "output_type": "execute_result"
    },
    {
     "data": {
      "image/png": "[encoded data removed]",
      "text/plain": [
       "<Figure size 600x500 with 1 Axes>"
      ]
     },
     "metadata": {},
     "output_type": "display_data"
    }
   ],
   "source": [
    "df.select(['length']).toPandas().dropna().hist(bins=50, log=True)"
   ]
  },
  {
   "cell_type": "code",
   "execution_count": 77,
   "metadata": {},
   "outputs": [
    {
     "data": {
      "text/plain": [
       "array([[<Axes: title={'center': 'itemInSession'}>]], dtype=object)"
      ]
     },
     "execution_count": 77,
     "metadata": {},
     "output_type": "execute_result"
    },
    {
     "data": {
      "image/png": "[encoded data removed]",
      "text/plain": [
       "<Figure size 600x500 with 1 Axes>"
      ]
     },
     "metadata": {},
     "output_type": "display_data"
    }
   ],
   "source": [
    "df.select(['itemInSession']).toPandas().dropna().hist(bins=50, log=True)"
   ]
  },
  {
   "cell_type": "code",
   "execution_count": 78,
   "metadata": {},
   "outputs": [
    {
     "name": "stdout",
     "output_type": "stream",
     "text": [
      "+-------+------------------+\n",
      "|summary|     itemInSession|\n",
      "+-------+------------------+\n",
      "|  count|            278154|\n",
      "|   mean|114.89918174824018|\n",
      "| stddev|129.85172939949027|\n",
      "|    min|                 0|\n",
      "|    max|              1321|\n",
      "+-------+------------------+\n",
      "\n"
     ]
    }
   ],
   "source": [
    "df.select(['itemInSession']).describe().show()"
   ]
  },
  {
   "cell_type": "code",
   "execution_count": 79,
   "metadata": {},
   "outputs": [
    {
     "name": "stdout",
     "output_type": "stream",
     "text": [
      "+-------+-----------------+\n",
      "|summary|      joined_days|\n",
      "+-------+-----------------+\n",
      "|  count|           278154|\n",
      "|   mean|  64.815756322928|\n",
      "| stddev|41.99336760534732|\n",
      "|    min|    -2.2718171296|\n",
      "|    max|   256.3776736111|\n",
      "+-------+-----------------+\n",
      "\n"
     ]
    }
   ],
   "source": [
    "df.select(['joined_days']).describe().show()"
   ]
  },
  {
   "cell_type": "code",
   "execution_count": 129,
   "metadata": {},
   "outputs": [
    {
     "name": "stdout",
     "output_type": "stream",
     "text": [
      "+----------+---------+---------+------+-------------+-------------+---------+---------+-----+--------------------+------+-----------+-------------------+-------------+---------+-------------------+------+-------------------+-------------+--------------------+------+-----+---+-------+--------+--------------+-------------+-----------+---------------+----------------+---------+\n",
      "|    artist|     auth|firstName|gender|itemInSession|  joined_days| lastName|   length|level|            location|method|       page|         regis_time| registration|sessionId|               song|status|               time|           ts|           userAgent|userId|churn|day|browser|platform|gender_indexed|level_indexed|day_indexed|browser_indexed|platform_indexed|time_rank|\n",
      "+----------+---------+---------+------+-------------+-------------+---------+---------+-----+--------------------+------+-----------+-------------------+-------------+---------+-------------------+------+-------------------+-------------+--------------------+------+-----+---+-------+--------+--------------+-------------+-----------+---------------+----------------+---------+\n",
      "|      NULL|Logged In| Darianna|     F|           34|55.6436574074|Carpenter|     NULL| free|Bridgeport-Stamfo...|   PUT|     Logout|2018-09-27 02:45:40|1.53801634E12|      187|               NULL|   307|2018-11-21 18:12:32|1542823952000|\"Mozilla/5.0 (iPh...|100010|    0|Wed| Safari|  iPhone|           0.0|          1.0|        2.0|            1.0|             3.0|        1|\n",
      "|Lily Allen|Logged In| Darianna|     F|           33|55.6436458333|Carpenter|185.25995| free|Bridgeport-Stamfo...|   PUT|   NextSong|2018-09-27 02:45:40|1.53801634E12|      187|                 22|   200|2018-11-21 18:12:31|1542823951000|\"Mozilla/5.0 (iPh...|100010|    0|Wed| Safari|  iPhone|           0.0|          1.0|        2.0|            1.0|             3.0|        2|\n",
      "|John Waite|Logged In| Darianna|     F|           32|55.6405324074|Carpenter|269.76608| free|Bridgeport-Stamfo...|   PUT|   NextSong|2018-09-27 02:45:40|1.53801634E12|      187|        Missing You|   200|2018-11-21 18:08:02|1542823682000|\"Mozilla/5.0 (iPh...|100010|    0|Wed| Safari|  iPhone|           0.0|          1.0|        2.0|            1.0|             3.0|        3|\n",
      "|   Hermano|Logged In| Darianna|     F|           31|55.6392013889|Carpenter|115.90485| free|Bridgeport-Stamfo...|   PUT|   NextSong|2018-09-27 02:45:40|1.53801634E12|      187|Letters From Madrid|   200|2018-11-21 18:06:07|1542823567000|\"Mozilla/5.0 (iPh...|100010|    0|Wed| Safari|  iPhone|           0.0|          1.0|        2.0|            1.0|             3.0|        4|\n",
      "|      NULL|Logged In| Darianna|     F|           30|55.6356134259|Carpenter|     NULL| free|Bridgeport-Stamfo...|   GET|Roll Advert|2018-09-27 02:45:40|1.53801634E12|      187|               NULL|   200|2018-11-21 18:00:57|1542823257000|\"Mozilla/5.0 (iPh...|100010|    0|Wed| Safari|  iPhone|           0.0|          1.0|        2.0|            1.0|             3.0|        5|\n",
      "+----------+---------+---------+------+-------------+-------------+---------+---------+-----+--------------------+------+-----------+-------------------+-------------+---------+-------------------+------+-------------------+-------------+--------------------+------+-----+---+-------+--------+--------------+-------------+-----------+---------------+----------------+---------+\n",
      "only showing top 5 rows\n",
      "\n"
     ]
    }
   ],
   "source": [
    "# However, joined_days contains duplicated userId with different timestamp, try to get the latest timestamp for each userId\n",
    "from pyspark.sql import Window, types\n",
    "from pyspark.sql.functions import dense_rank, desc\n",
    "# Order by last timestamp\n",
    "w = Window.partitionBy(\"userId\").orderBy(desc(\"time\"))\n",
    "df = df.withColumn(\"time_rank\", dense_rank().over(w))\n",
    "df.show(5)"
   ]
  },
  {
   "cell_type": "code",
   "execution_count": 131,
   "metadata": {},
   "outputs": [
    {
     "data": {
      "text/plain": [
       "array([[<Axes: title={'center': 'joined_days'}>]], dtype=object)"
      ]
     },
     "execution_count": 131,
     "metadata": {},
     "output_type": "execute_result"
    },
    {
     "data": {
      "image/png": "[encoded data removed]",
      "text/plain": [
       "<Figure size 600x500 with 1 Axes>"
      ]
     },
     "metadata": {},
     "output_type": "display_data"
    }
   ],
   "source": [
    "df.filter(df['time_rank'] == 1).select(['joined_days']).toPandas().dropna().hist(bins=50)"
   ]
  },
  {
   "cell_type": "code",
   "execution_count": 81,
   "metadata": {},
   "outputs": [
    {
     "data": {
      "text/html": [
       "<div>\n",
       "<style scoped>\n",
       "    .dataframe tbody tr th:only-of-type {\n",
       "        vertical-align: middle;\n",
       "    }\n",
       "\n",
       "    .dataframe tbody tr th {\n",
       "        vertical-align: top;\n",
       "    }\n",
       "\n",
       "    .dataframe thead th {\n",
       "        text-align: right;\n",
       "    }\n",
       "</style>\n",
       "<table border=\"1\" class=\"dataframe\">\n",
       "  <thead>\n",
       "    <tr style=\"text-align: right;\">\n",
       "      <th></th>\n",
       "      <th>joined_days</th>\n",
       "    </tr>\n",
       "  </thead>\n",
       "  <tbody>\n",
       "    <tr>\n",
       "      <th>0</th>\n",
       "      <td>38.431991</td>\n",
       "    </tr>\n",
       "    <tr>\n",
       "      <th>1</th>\n",
       "      <td>21.590891</td>\n",
       "    </tr>\n",
       "    <tr>\n",
       "      <th>2</th>\n",
       "      <td>71.316887</td>\n",
       "    </tr>\n",
       "    <tr>\n",
       "      <th>3</th>\n",
       "      <td>29.607176</td>\n",
       "    </tr>\n",
       "    <tr>\n",
       "      <th>4</th>\n",
       "      <td>13.099016</td>\n",
       "    </tr>\n",
       "  </tbody>\n",
       "</table>\n",
       "</div>"
      ],
      "text/plain": [
       "   joined_days\n",
       "0    38.431991\n",
       "1    21.590891\n",
       "2    71.316887\n",
       "3    29.607176\n",
       "4    13.099016"
      ]
     },
     "execution_count": 81,
     "metadata": {},
     "output_type": "execute_result"
    }
   ],
   "source": [
    "churn_day_count = df[df['churn'] == 1].select('joined_days').toPandas().dropna()\n",
    "churn_day_count.head()"
   ]
  },
  {
   "cell_type": "code",
   "execution_count": 82,
   "metadata": {},
   "outputs": [
    {
     "data": {
      "image/png": "[encoded data removed]",
      "text/plain": [
       "<Figure size 600x500 with 1 Axes>"
      ]
     },
     "metadata": {},
     "output_type": "display_data"
    }
   ],
   "source": [
    "sns.boxplot(churn_day_count['joined_days']);"
   ]
  },
  {
   "cell_type": "code",
   "execution_count": 83,
   "metadata": {},
   "outputs": [
    {
     "data": {
      "text/html": [
       "<div>\n",
       "<style scoped>\n",
       "    .dataframe tbody tr th:only-of-type {\n",
       "        vertical-align: middle;\n",
       "    }\n",
       "\n",
       "    .dataframe tbody tr th {\n",
       "        vertical-align: top;\n",
       "    }\n",
       "\n",
       "    .dataframe thead th {\n",
       "        text-align: right;\n",
       "    }\n",
       "</style>\n",
       "<table border=\"1\" class=\"dataframe\">\n",
       "  <thead>\n",
       "    <tr style=\"text-align: right;\">\n",
       "      <th></th>\n",
       "      <th>joined_days</th>\n",
       "    </tr>\n",
       "  </thead>\n",
       "  <tbody>\n",
       "    <tr>\n",
       "      <th>count</th>\n",
       "      <td>52.000000</td>\n",
       "    </tr>\n",
       "    <tr>\n",
       "      <th>mean</th>\n",
       "      <td>57.305993</td>\n",
       "    </tr>\n",
       "    <tr>\n",
       "      <th>std</th>\n",
       "      <td>36.633148</td>\n",
       "    </tr>\n",
       "    <tr>\n",
       "      <th>min</th>\n",
       "      <td>5.165116</td>\n",
       "    </tr>\n",
       "    <tr>\n",
       "      <th>25%</th>\n",
       "      <td>30.801238</td>\n",
       "    </tr>\n",
       "    <tr>\n",
       "      <th>50%</th>\n",
       "      <td>51.289392</td>\n",
       "    </tr>\n",
       "    <tr>\n",
       "      <th>75%</th>\n",
       "      <td>73.751444</td>\n",
       "    </tr>\n",
       "    <tr>\n",
       "      <th>max</th>\n",
       "      <td>188.311782</td>\n",
       "    </tr>\n",
       "  </tbody>\n",
       "</table>\n",
       "</div>"
      ],
      "text/plain": [
       "       joined_days\n",
       "count    52.000000\n",
       "mean     57.305993\n",
       "std      36.633148\n",
       "min       5.165116\n",
       "25%      30.801238\n",
       "50%      51.289392\n",
       "75%      73.751444\n",
       "max     188.311782"
      ]
     },
     "execution_count": 83,
     "metadata": {},
     "output_type": "execute_result"
    }
   ],
   "source": [
    "churn_day_count.describe()"
   ]
  },
  {
   "cell_type": "code",
   "execution_count": 84,
   "metadata": {},
   "outputs": [
    {
     "data": {
      "image/png": "[encoded data removed]",
      "text/plain": [
       "<Figure size 600x500 with 1 Axes>"
      ]
     },
     "metadata": {},
     "output_type": "display_data"
    }
   ],
   "source": [
    "_churn_day_count = df[df['churn'] == 0].select('joined_days').toPandas().dropna()\n",
    "sns.boxplot(_churn_day_count['joined_days']);"
   ]
  },
  {
   "cell_type": "markdown",
   "metadata": {},
   "source": [
    "It seem like the users who churn are join for less time than the others. However, the difference is not significant.\n",
    "\n",
    "Move on to analysis the data itself, I wonder if the weekdays effect users activity.\n",
    "\n",
    "**Q4: Does weekday affect users activity?**"
   ]
  },
  {
   "cell_type": "code",
   "execution_count": 85,
   "metadata": {},
   "outputs": [
    {
     "name": "stdout",
     "output_type": "stream",
     "text": [
      "+----------------+---------+---------+------+-------------+------------+--------+---------+-----+--------------------+------+--------+-------------------+--------------+---------+--------------------+------+-------------------+-------------+--------------------+------+-----+---+\n",
      "|          artist|     auth|firstName|gender|itemInSession| joined_days|lastName|   length|level|            location|method|    page|         regis_time|  registration|sessionId|                song|status|               time|           ts|           userAgent|userId|churn|day|\n",
      "+----------------+---------+---------+------+-------------+------------+--------+---------+-----+--------------------+------+--------+-------------------+--------------+---------+--------------------+------+-------------------+-------------+--------------------+------+-----+---+\n",
      "|  Martha Tilston|Logged In|    Colin|     M|           50|2.0689236111| Freeman|277.89016| paid|     Bakersfield, CA|   PUT|NextSong|2018-09-28 22:22:42|1.538173362E12|       29|           Rockpools|   200|2018-10-01 00:01:57|1538352117000|Mozilla/5.0 (Wind...|    30|    0|Mon|\n",
      "|Five Iron Frenzy|Logged In|    Micah|     M|           79|0.2378472222|    Long|236.09424| free|Boston-Cambridge-...|   PUT|NextSong|2018-09-30 18:20:30| 1.53833163E12|        8|              Canada|   200|2018-10-01 00:03:00|1538352180000|\"Mozilla/5.0 (Win...|     9|    0|Mon|\n",
      "|    Adam Lambert|Logged In|    Colin|     M|           51|2.0721296296| Freeman| 282.8273| paid|     Bakersfield, CA|   PUT|NextSong|2018-09-28 22:22:42|1.538173362E12|       29|   Time For Miracles|   200|2018-10-01 00:06:34|1538352394000|Mozilla/5.0 (Wind...|    30|    0|Mon|\n",
      "|          Enigma|Logged In|    Micah|     M|           80|0.2405787037|    Long|262.71302| free|Boston-Cambridge-...|   PUT|NextSong|2018-09-30 18:20:30| 1.53833163E12|        8|Knocking On Forbi...|   200|2018-10-01 00:06:56|1538352416000|\"Mozilla/5.0 (Win...|     9|    0|Mon|\n",
      "|       Daft Punk|Logged In|    Colin|     M|           52|2.0753935185| Freeman|223.60771| paid|     Bakersfield, CA|   PUT|NextSong|2018-09-28 22:22:42|1.538173362E12|       29|Harder Better Fas...|   200|2018-10-01 00:11:16|1538352676000|Mozilla/5.0 (Wind...|    30|    0|Mon|\n",
      "+----------------+---------+---------+------+-------------+------------+--------+---------+-----+--------------------+------+--------+-------------------+--------------+---------+--------------------+------+-------------------+-------------+--------------------+------+-----+---+\n",
      "only showing top 5 rows\n",
      "\n"
     ]
    }
   ],
   "source": [
    "df = df.withColumn('day', F.date_format('time', 'E'))\n",
    "df.show(5)"
   ]
  },
  {
   "cell_type": "code",
   "execution_count": 86,
   "metadata": {},
   "outputs": [
    {
     "data": {
      "text/plain": [
       "<Axes: xlabel='day', ylabel='count'>"
      ]
     },
     "execution_count": 86,
     "metadata": {},
     "output_type": "execute_result"
    },
    {
     "data": {
      "image/png": "[encoded data removed]",
      "text/plain": [
       "<Figure size 600x500 with 1 Axes>"
      ]
     },
     "metadata": {},
     "output_type": "display_data"
    }
   ],
   "source": [
    "day_df = df.select('day').groupBy('day').count().toPandas()\n",
    "sns.barplot(x='day', y='count', data=day_df, hue='day')"
   ]
  },
  {
   "cell_type": "markdown",
   "metadata": {},
   "source": [
    "So it's clear that people are more active during the weekdays than the weekends, it might due to the fact weekdays are working days and people usually enjoy listening while working.\n",
    "\n",
    "I see a field named \"userAgent\" with a noisy value but contain information of their device type and browser.\n",
    "\n",
    "**Q5: What is the most common browser and device type?**"
   ]
  },
  {
   "cell_type": "code",
   "execution_count": 114,
   "metadata": {},
   "outputs": [
    {
     "data": {
      "text/plain": [
       "[Row(userAgent='\"Mozilla/5.0 (Windows NT 5.1) AppleWebKit/537.36 (KHTML, like Gecko) Chrome/36.0.1985.143 Safari/537.36\"'),\n",
       " Row(userAgent='Mozilla/5.0 (X11; Ubuntu; Linux i686; rv:31.0) Gecko/20100101 Firefox/31.0'),\n",
       " Row(userAgent='\"Mozilla/5.0 (Macintosh; Intel Mac OS X 10_9_4) AppleWebKit/537.36 (KHTML, like Gecko) Chrome/36.0.1985.125 Safari/537.36\"'),\n",
       " Row(userAgent='Mozilla/5.0 (Windows NT 6.1; WOW64; rv:30.0) Gecko/20100101 Firefox/30.0'),\n",
       " Row(userAgent='Mozilla/5.0 (Windows NT 6.3; WOW64; rv:31.0) Gecko/20100101 Firefox/31.0')]"
      ]
     },
     "execution_count": 114,
     "metadata": {},
     "output_type": "execute_result"
    }
   ],
   "source": [
    "df[['userAgent']].distinct().collect()[:5]"
   ]
  },
  {
   "cell_type": "code",
   "execution_count": 88,
   "metadata": {},
   "outputs": [],
   "source": [
    "def _get_browser(x):\n",
    "    if 'Firefox' in x:\n",
    "        return 'Firefox'\n",
    "    elif 'Safari' in x:\n",
    "        return 'Chrome' if 'Chrome' in x else 'Safari'\n",
    "    elif 'Trident' in x:\n",
    "        return 'IE'\n",
    "    else:\n",
    "        return None\n",
    "    \n",
    "def _get_platform(x):\n",
    "    if 'Windows' in x:\n",
    "        return 'Windows'\n",
    "    elif 'Macintosh' in x:\n",
    "        return 'Mac'\n",
    "    elif 'iPhone' in x:\n",
    "        return 'iPhone'\n",
    "    elif 'iPad' in x:\n",
    "        return 'iPad'\n",
    "    else:\n",
    "        return 'Linux'\n",
    "\n",
    "get_browser = udf(lambda x : _get_browser(x))\n",
    "get_platform = udf(lambda x : _get_platform(x))"
   ]
  },
  {
   "cell_type": "code",
   "execution_count": 91,
   "metadata": {},
   "outputs": [
    {
     "data": {
      "text/plain": [
       "<Axes: xlabel='browser', ylabel='count'>"
      ]
     },
     "execution_count": 91,
     "metadata": {},
     "output_type": "execute_result"
    },
    {
     "data": {
      "image/png": "[encoded data removed]",
      "text/plain": [
       "<Figure size 600x500 with 1 Axes>"
      ]
     },
     "metadata": {},
     "output_type": "display_data"
    }
   ],
   "source": [
    "_browser_df = df.select('browser').groupBy('browser').count().toPandas()\n",
    "sns.barplot(x='browser', y='count', data=_browser_df, hue='browser')"
   ]
  },
  {
   "cell_type": "code",
   "execution_count": 89,
   "metadata": {},
   "outputs": [
    {
     "name": "stdout",
     "output_type": "stream",
     "text": [
      "+----------------+---------+---------+------+-------------+------------+--------+---------+-----+--------------------+------+--------+-------------------+--------------+---------+--------------------+------+-------------------+-------------+--------------------+------+-----+---+-------+\n",
      "|          artist|     auth|firstName|gender|itemInSession| joined_days|lastName|   length|level|            location|method|    page|         regis_time|  registration|sessionId|                song|status|               time|           ts|           userAgent|userId|churn|day|browser|\n",
      "+----------------+---------+---------+------+-------------+------------+--------+---------+-----+--------------------+------+--------+-------------------+--------------+---------+--------------------+------+-------------------+-------------+--------------------+------+-----+---+-------+\n",
      "|  Martha Tilston|Logged In|    Colin|     M|           50|2.0689236111| Freeman|277.89016| paid|     Bakersfield, CA|   PUT|NextSong|2018-09-28 22:22:42|1.538173362E12|       29|           Rockpools|   200|2018-10-01 00:01:57|1538352117000|Mozilla/5.0 (Wind...|    30|    0|Mon|Firefox|\n",
      "|Five Iron Frenzy|Logged In|    Micah|     M|           79|0.2378472222|    Long|236.09424| free|Boston-Cambridge-...|   PUT|NextSong|2018-09-30 18:20:30| 1.53833163E12|        8|              Canada|   200|2018-10-01 00:03:00|1538352180000|\"Mozilla/5.0 (Win...|     9|    0|Mon| Chrome|\n",
      "|    Adam Lambert|Logged In|    Colin|     M|           51|2.0721296296| Freeman| 282.8273| paid|     Bakersfield, CA|   PUT|NextSong|2018-09-28 22:22:42|1.538173362E12|       29|   Time For Miracles|   200|2018-10-01 00:06:34|1538352394000|Mozilla/5.0 (Wind...|    30|    0|Mon|Firefox|\n",
      "|          Enigma|Logged In|    Micah|     M|           80|0.2405787037|    Long|262.71302| free|Boston-Cambridge-...|   PUT|NextSong|2018-09-30 18:20:30| 1.53833163E12|        8|Knocking On Forbi...|   200|2018-10-01 00:06:56|1538352416000|\"Mozilla/5.0 (Win...|     9|    0|Mon| Chrome|\n",
      "|       Daft Punk|Logged In|    Colin|     M|           52|2.0753935185| Freeman|223.60771| paid|     Bakersfield, CA|   PUT|NextSong|2018-09-28 22:22:42|1.538173362E12|       29|Harder Better Fas...|   200|2018-10-01 00:11:16|1538352676000|Mozilla/5.0 (Wind...|    30|    0|Mon|Firefox|\n",
      "+----------------+---------+---------+------+-------------+------------+--------+---------+-----+--------------------+------+--------+-------------------+--------------+---------+--------------------+------+-------------------+-------------+--------------------+------+-----+---+-------+\n",
      "only showing top 5 rows\n",
      "\n"
     ]
    }
   ],
   "source": [
    "df = df.withColumn('browser', get_browser(df.userAgent))\n",
    "df.show(5)"
   ]
  },
  {
   "cell_type": "code",
   "execution_count": 90,
   "metadata": {},
   "outputs": [
    {
     "name": "stdout",
     "output_type": "stream",
     "text": [
      "+----------------+---------+---------+------+-------------+------------+--------+---------+-----+--------------------+------+--------+-------------------+--------------+---------+--------------------+------+-------------------+-------------+--------------------+------+-----+---+-------+--------+\n",
      "|          artist|     auth|firstName|gender|itemInSession| joined_days|lastName|   length|level|            location|method|    page|         regis_time|  registration|sessionId|                song|status|               time|           ts|           userAgent|userId|churn|day|browser|platform|\n",
      "+----------------+---------+---------+------+-------------+------------+--------+---------+-----+--------------------+------+--------+-------------------+--------------+---------+--------------------+------+-------------------+-------------+--------------------+------+-----+---+-------+--------+\n",
      "|  Martha Tilston|Logged In|    Colin|     M|           50|2.0689236111| Freeman|277.89016| paid|     Bakersfield, CA|   PUT|NextSong|2018-09-28 22:22:42|1.538173362E12|       29|           Rockpools|   200|2018-10-01 00:01:57|1538352117000|Mozilla/5.0 (Wind...|    30|    0|Mon|Firefox| Windows|\n",
      "|Five Iron Frenzy|Logged In|    Micah|     M|           79|0.2378472222|    Long|236.09424| free|Boston-Cambridge-...|   PUT|NextSong|2018-09-30 18:20:30| 1.53833163E12|        8|              Canada|   200|2018-10-01 00:03:00|1538352180000|\"Mozilla/5.0 (Win...|     9|    0|Mon| Chrome| Windows|\n",
      "|    Adam Lambert|Logged In|    Colin|     M|           51|2.0721296296| Freeman| 282.8273| paid|     Bakersfield, CA|   PUT|NextSong|2018-09-28 22:22:42|1.538173362E12|       29|   Time For Miracles|   200|2018-10-01 00:06:34|1538352394000|Mozilla/5.0 (Wind...|    30|    0|Mon|Firefox| Windows|\n",
      "|          Enigma|Logged In|    Micah|     M|           80|0.2405787037|    Long|262.71302| free|Boston-Cambridge-...|   PUT|NextSong|2018-09-30 18:20:30| 1.53833163E12|        8|Knocking On Forbi...|   200|2018-10-01 00:06:56|1538352416000|\"Mozilla/5.0 (Win...|     9|    0|Mon| Chrome| Windows|\n",
      "|       Daft Punk|Logged In|    Colin|     M|           52|2.0753935185| Freeman|223.60771| paid|     Bakersfield, CA|   PUT|NextSong|2018-09-28 22:22:42|1.538173362E12|       29|Harder Better Fas...|   200|2018-10-01 00:11:16|1538352676000|Mozilla/5.0 (Wind...|    30|    0|Mon|Firefox| Windows|\n",
      "+----------------+---------+---------+------+-------------+------------+--------+---------+-----+--------------------+------+--------+-------------------+--------------+---------+--------------------+------+-------------------+-------------+--------------------+------+-----+---+-------+--------+\n",
      "only showing top 5 rows\n",
      "\n"
     ]
    }
   ],
   "source": [
    "df = df.withColumn('platform', get_platform(df.userAgent))\n",
    "df.show(5)"
   ]
  },
  {
   "cell_type": "code",
   "execution_count": 92,
   "metadata": {},
   "outputs": [
    {
     "data": {
      "text/plain": [
       "<Axes: xlabel='platform', ylabel='count'>"
      ]
     },
     "execution_count": 92,
     "metadata": {},
     "output_type": "execute_result"
    },
    {
     "data": {
      "image/png": "[encoded data removed]",
      "text/plain": [
       "<Figure size 600x500 with 1 Axes>"
      ]
     },
     "metadata": {},
     "output_type": "display_data"
    }
   ],
   "source": [
    "_platform_df = df.select('platform').groupBy('platform').count().toPandas()\n",
    "sns.barplot(x='platform', y='count', data=_platform_df, hue='platform')"
   ]
  },
  {
   "cell_type": "markdown",
   "metadata": {},
   "source": [
    "As indicated in the chart, the common browser for Sparkify users is Chrome and through Windows or Mac. However, there are a small number of users using iPad or iPhone, which mean the app is somewhat popular in mobile devices."
   ]
  },
  {
   "cell_type": "markdown",
   "metadata": {},
   "source": [
    "# Feature Engineering\n",
    "Once you've familiarized yourself with the data, build out the features you find promising to train your model on. To work with the full dataset, you can follow the following steps.\n",
    "\n",
    "Write a script to extract the necessary features from the smaller subset of data\n",
    "Ensure that your script is scalable, using the best practices discussed in Lesson 3\n",
    "Try your script on the full data set, debugging your script if necessary\n",
    "If you are working in the classroom workspace, you can just extract features based on the small subset of data contained here. Be sure to transfer over this work to the larger dataset when you work on your Spark cluster."
   ]
  },
  {
   "cell_type": "markdown",
   "metadata": {},
   "source": [
    "The feature I will build on:\n",
    "- Categorical Features (need label encoding)\n",
    "  - gender\n",
    "  - level\n",
    "  - browser\n",
    "  - platform\n",
    "- Numerical Features\n",
    "  - joined_day: membership day\n",
    "  - songs_played: number of songs played\n",
    "  - songs_listened: number of song listened per session\n",
    "  - usage_time: total of length (!= NULL)\n",
    "  - artist_followed: number of artists listen to\n",
    "  - total numbers of NextSong, ThumbsUp, ThumbsDown, AddtoPlaylist, AddFriend, RollAdvert"
   ]
  },
  {
   "cell_type": "code",
   "execution_count": 93,
   "metadata": {},
   "outputs": [
    {
     "name": "stdout",
     "output_type": "stream",
     "text": [
      "root\n",
      " |-- artist: string (nullable = true)\n",
      " |-- auth: string (nullable = true)\n",
      " |-- firstName: string (nullable = true)\n",
      " |-- gender: string (nullable = true)\n",
      " |-- itemInSession: long (nullable = true)\n",
      " |-- joined_days: double (nullable = true)\n",
      " |-- lastName: string (nullable = true)\n",
      " |-- length: double (nullable = true)\n",
      " |-- level: string (nullable = true)\n",
      " |-- location: string (nullable = true)\n",
      " |-- method: string (nullable = true)\n",
      " |-- page: string (nullable = true)\n",
      " |-- regis_time: string (nullable = true)\n",
      " |-- registration: double (nullable = true)\n",
      " |-- sessionId: long (nullable = true)\n",
      " |-- song: string (nullable = true)\n",
      " |-- status: long (nullable = true)\n",
      " |-- time: string (nullable = true)\n",
      " |-- ts: long (nullable = true)\n",
      " |-- userAgent: string (nullable = true)\n",
      " |-- userId: string (nullable = true)\n",
      " |-- churn: integer (nullable = true)\n",
      " |-- day: string (nullable = true)\n",
      " |-- browser: string (nullable = true)\n",
      " |-- platform: string (nullable = true)\n",
      "\n"
     ]
    }
   ],
   "source": [
    "df.printSchema()"
   ]
  },
  {
   "cell_type": "code",
   "execution_count": 94,
   "metadata": {},
   "outputs": [],
   "source": [
    "from pyspark.ml.feature import StringIndexer"
   ]
  },
  {
   "cell_type": "code",
   "execution_count": 95,
   "metadata": {},
   "outputs": [],
   "source": [
    "def cat_transform(df, col_name):\n",
    "    '''transform categorical items to number'''\n",
    "    indexer = StringIndexer(inputCol=col_name, outputCol=col_name+\"_indexed\")\n",
    "    indexed = indexer.fit(df).transform(df)\n",
    "    return indexed"
   ]
  },
  {
   "cell_type": "code",
   "execution_count": null,
   "metadata": {},
   "outputs": [],
   "source": [
    "# get categorical features\n",
    "categorical_feature = [\"gender\", \"level\", \"day\", \"browser\", \"platform\"]\n",
    "for col in categorical_feature:\n",
    "    df = cat_transform(df, col)"
   ]
  },
  {
   "cell_type": "code",
   "execution_count": 202,
   "metadata": {},
   "outputs": [],
   "source": [
    "categorical_feature_names = ['gender_indexed', 'level_indexed', 'day_indexed', 'browser_indexed', 'platform_indexed']"
   ]
  },
  {
   "cell_type": "code",
   "execution_count": 190,
   "metadata": {},
   "outputs": [
    {
     "name": "stdout",
     "output_type": "stream",
     "text": [
      "+------+--------------+-------------+-----------+---------------+----------------+\n",
      "|userId|gender_indexed|level_indexed|day_indexed|browser_indexed|platform_indexed|\n",
      "+------+--------------+-------------+-----------+---------------+----------------+\n",
      "|    51|           1.0|          0.0|        6.0|            0.0|             0.0|\n",
      "|   124|           0.0|          0.0|        6.0|            0.0|             1.0|\n",
      "|     7|           1.0|          1.0|        3.0|            2.0|             0.0|\n",
      "|    54|           0.0|          1.0|        6.0|            2.0|             0.0|\n",
      "|    15|           1.0|          0.0|        6.0|            0.0|             0.0|\n",
      "|   132|           0.0|          1.0|        6.0|            1.0|             1.0|\n",
      "|   101|           1.0|          1.0|        6.0|            2.0|             0.0|\n",
      "|    11|           0.0|          1.0|        6.0|            3.0|             0.0|\n",
      "|   138|           1.0|          1.0|        6.0|            1.0|             2.0|\n",
      "|    29|           1.0|          1.0|        6.0|            1.0|             1.0|\n",
      "|    69|           0.0|          1.0|        6.0|            0.0|             0.0|\n",
      "|    42|           0.0|          1.0|        6.0|            0.0|             0.0|\n",
      "|   112|           1.0|          1.0|        6.0|            2.0|             0.0|\n",
      "|    87|           1.0|          1.0|        6.0|            0.0|             0.0|\n",
      "|    73|           0.0|          1.0|        3.0|            2.0|             0.0|\n",
      "|     3|           1.0|          0.0|        5.0|            0.0|             0.0|\n",
      "|    30|           1.0|          1.0|        6.0|            2.0|             0.0|\n",
      "|   113|           0.0|          1.0|        6.0|            0.0|             1.0|\n",
      "|    34|           1.0|          1.0|        3.0|            0.0|             1.0|\n",
      "|    59|           1.0|          1.0|        4.0|            2.0|             0.0|\n",
      "+------+--------------+-------------+-----------+---------------+----------------+\n",
      "only showing top 20 rows\n",
      "\n"
     ]
    }
   ],
   "source": [
    "f_categories = df.select([\"userId\", \"gender_indexed\", \"level_indexed\", \"day_indexed\", \"browser_indexed\", \"platform_indexed\"]).groupBy([\"userId\"]).\\\n",
    "    agg(F.max(\"gender_indexed\").alias(\"gender_indexed\"), \\\n",
    "        F.max(\"level_indexed\").alias(\"level_indexed\"), \\\n",
    "        F.max(\"day_indexed\").alias(\"day_indexed\"), \\\n",
    "        F.max(\"browser_indexed\").alias(\"browser_indexed\"), \\\n",
    "        F.max(\"platform_indexed\").alias(\"platform_indexed\"))\n",
    "f_categories.show()"
   ]
  },
  {
   "cell_type": "code",
   "execution_count": 100,
   "metadata": {},
   "outputs": [
    {
     "name": "stdout",
     "output_type": "stream",
     "text": [
      "+----------------+---------+---------+------+-------------+------------+--------+---------+-----+--------------------+------+--------+-------------------+--------------+---------+--------------------+------+-------------------+-------------+--------------------+------+-----+---+-------+--------+--------------+-------------+-----------+---------------+----------------+\n",
      "|          artist|     auth|firstName|gender|itemInSession| joined_days|lastName|   length|level|            location|method|    page|         regis_time|  registration|sessionId|                song|status|               time|           ts|           userAgent|userId|churn|day|browser|platform|gender_indexed|level_indexed|day_indexed|browser_indexed|platform_indexed|\n",
      "+----------------+---------+---------+------+-------------+------------+--------+---------+-----+--------------------+------+--------+-------------------+--------------+---------+--------------------+------+-------------------+-------------+--------------------+------+-----+---+-------+--------+--------------+-------------+-----------+---------------+----------------+\n",
      "|  Martha Tilston|Logged In|    Colin|     M|           50|2.0689236111| Freeman|277.89016| paid|     Bakersfield, CA|   PUT|NextSong|2018-09-28 22:22:42|1.538173362E12|       29|           Rockpools|   200|2018-10-01 00:01:57|1538352117000|Mozilla/5.0 (Wind...|    30|    0|Mon|Firefox| Windows|           1.0|          0.0|        4.0|            2.0|             0.0|\n",
      "|Five Iron Frenzy|Logged In|    Micah|     M|           79|0.2378472222|    Long|236.09424| free|Boston-Cambridge-...|   PUT|NextSong|2018-09-30 18:20:30| 1.53833163E12|        8|              Canada|   200|2018-10-01 00:03:00|1538352180000|\"Mozilla/5.0 (Win...|     9|    0|Mon| Chrome| Windows|           1.0|          1.0|        4.0|            0.0|             0.0|\n",
      "|    Adam Lambert|Logged In|    Colin|     M|           51|2.0721296296| Freeman| 282.8273| paid|     Bakersfield, CA|   PUT|NextSong|2018-09-28 22:22:42|1.538173362E12|       29|   Time For Miracles|   200|2018-10-01 00:06:34|1538352394000|Mozilla/5.0 (Wind...|    30|    0|Mon|Firefox| Windows|           1.0|          0.0|        4.0|            2.0|             0.0|\n",
      "|          Enigma|Logged In|    Micah|     M|           80|0.2405787037|    Long|262.71302| free|Boston-Cambridge-...|   PUT|NextSong|2018-09-30 18:20:30| 1.53833163E12|        8|Knocking On Forbi...|   200|2018-10-01 00:06:56|1538352416000|\"Mozilla/5.0 (Win...|     9|    0|Mon| Chrome| Windows|           1.0|          1.0|        4.0|            0.0|             0.0|\n",
      "|       Daft Punk|Logged In|    Colin|     M|           52|2.0753935185| Freeman|223.60771| paid|     Bakersfield, CA|   PUT|NextSong|2018-09-28 22:22:42|1.538173362E12|       29|Harder Better Fas...|   200|2018-10-01 00:11:16|1538352676000|Mozilla/5.0 (Wind...|    30|    0|Mon|Firefox| Windows|           1.0|          0.0|        4.0|            2.0|             0.0|\n",
      "+----------------+---------+---------+------+-------------+------------+--------+---------+-----+--------------------+------+--------+-------------------+--------------+---------+--------------------+------+-------------------+-------------+--------------------+------+-----+---+-------+--------+--------------+-------------+-----------+---------------+----------------+\n",
      "only showing top 5 rows\n",
      "\n"
     ]
    }
   ],
   "source": [
    "df.show(5)"
   ]
  },
  {
   "cell_type": "code",
   "execution_count": null,
   "metadata": {},
   "outputs": [],
   "source": [
    "from pyspark.sql.functions import first, min, max, avg, sum"
   ]
  },
  {
   "cell_type": "code",
   "execution_count": 184,
   "metadata": {},
   "outputs": [],
   "source": [
    "f_song_played = df.select([\"userId\",\"song\"]).groupBy(\"userId\").count()\n",
    "# f_song_played.show(5)\n",
    "f_song_played = f_song_played.withColumnRenamed(\"count\",\"song_played\")"
   ]
  },
  {
   "cell_type": "code",
   "execution_count": null,
   "metadata": {},
   "outputs": [
    {
     "data": {
      "text/plain": [
       "225"
      ]
     },
     "execution_count": 186,
     "metadata": {},
     "output_type": "execute_result"
    }
   ],
   "source": [
    "# f_song_listened = df.select([\"userId\",\"song\"]).drop_duplicates([\"userId\", \"song\"]).groupby([\"userId\"]).count()\n",
    "f_song_listened = df.filter(df.page == \"NextSong\").groupBy('userId','sessionId').count()\n",
    "f_song_listened = f_song_listened.groupBy('userId').agg(F.sum(\"count\").alias(\"song_listened\"))\n",
    "# f_song_listened = f_song_listened.withColumnRenamed(\"count\",\"song_listened\")"
   ]
  },
  {
   "cell_type": "code",
   "execution_count": 159,
   "metadata": {},
   "outputs": [],
   "source": [
    "f_followed_artist = df.select([\"userId\", \"artist\"]).dropDuplicates([\"userId\",\"artist\"]).groupby([\"userId\"]).count()\n",
    "f_followed_artist = f_followed_artist.withColumnRenamed(\"count\", \"followed_artist\")"
   ]
  },
  {
   "cell_type": "code",
   "execution_count": 133,
   "metadata": {},
   "outputs": [],
   "source": [
    "f_joined_day = df.filter(df['time_rank'] == 1).select(['userId', 'joined_days'])"
   ]
  },
  {
   "cell_type": "code",
   "execution_count": 141,
   "metadata": {},
   "outputs": [],
   "source": [
    "f_length = df.select([\"userId\", \"length\"]).groupby([\"userId\"]).agg(\n",
    "    avg('length').alias('avg_length'), \n",
    "    max('length').alias('max_length'),\n",
    "    min('length').alias('min_length'))"
   ]
  },
  {
   "cell_type": "code",
   "execution_count": 153,
   "metadata": {},
   "outputs": [
    {
     "name": "stdout",
     "output_type": "stream",
     "text": [
      "+------+--------------+\n",
      "|userId|nextsong_count|\n",
      "+------+--------------+\n",
      "|    51|          2111|\n",
      "|   124|          4079|\n",
      "|     7|           150|\n",
      "|    54|          2841|\n",
      "|    15|          1914|\n",
      "+------+--------------+\n",
      "only showing top 5 rows\n",
      "\n",
      "+------+---------------+\n",
      "|userId|thumbs_up_count|\n",
      "+------+---------------+\n",
      "|    51|            100|\n",
      "|   124|            171|\n",
      "|     7|              7|\n",
      "|    54|            163|\n",
      "|    15|             81|\n",
      "+------+---------------+\n",
      "only showing top 5 rows\n",
      "\n",
      "+------+-----------------+\n",
      "|userId|thumbs_down_count|\n",
      "+------+-----------------+\n",
      "|    51|               21|\n",
      "|   124|               41|\n",
      "|     7|                1|\n",
      "|    54|               29|\n",
      "|    15|               14|\n",
      "+------+-----------------+\n",
      "only showing top 5 rows\n",
      "\n",
      "+------+---------------------+\n",
      "|userId|add_to_playlist_count|\n",
      "+------+---------------------+\n",
      "|    51|                   52|\n",
      "|   124|                  118|\n",
      "|     7|                    5|\n",
      "|    54|                   72|\n",
      "|    15|                   59|\n",
      "+------+---------------------+\n",
      "only showing top 5 rows\n",
      "\n",
      "+------+----------------+\n",
      "|userId|add_friend_count|\n",
      "+------+----------------+\n",
      "|    51|              28|\n",
      "|   124|              74|\n",
      "|     7|               1|\n",
      "|    54|              33|\n",
      "|    15|              31|\n",
      "+------+----------------+\n",
      "only showing top 5 rows\n",
      "\n",
      "+------+-----------------+\n",
      "|userId|roll_advert_count|\n",
      "+------+-----------------+\n",
      "|    51|                0|\n",
      "|   124|                4|\n",
      "|     7|               16|\n",
      "|    54|               47|\n",
      "|    15|                1|\n",
      "+------+-----------------+\n",
      "only showing top 5 rows\n",
      "\n"
     ]
    }
   ],
   "source": [
    "def get_action(df, action):\n",
    "    event = F.udf(lambda x: 1 if x == action else 0, IntegerType())\n",
    "    temp_df = df.withColumn(\"temp\", event(\"page\"))\n",
    "    return temp_df.groupBy(\"userId\").agg(F.sum(\"temp\").alias(f\"{str(action).lower().replace(' ', '_')}_count\"))\n",
    "\n",
    "events = 'NextSong','Thumbs Up', 'Thumbs Down', 'Add to Playlist', 'Add Friend', 'Roll Advert'\n",
    "f_event = df.select(\"userId\").distinct()\n",
    "for event in events:\n",
    "    temp = get_action(df, event)\n",
    "    temp.show(5)\n",
    "    f_event = f_event.join(temp, on='userId', how='left')"
   ]
  },
  {
   "cell_type": "code",
   "execution_count": 191,
   "metadata": {},
   "outputs": [],
   "source": [
    "data = f_length.join(f_event,on='userId',how='inner').\\\n",
    "                    join(f_followed_artist,on='userId',how='inner').\\\n",
    "                    join(f_joined_day,on='userId',how='inner').\\\n",
    "                    join(f_song_listened,on='userId',how='inner').\\\n",
    "                    join(f_song_played,on='userId',how='inner').\\\n",
    "                    join(f_categories,on='userId',how='inner')"
   ]
  },
  {
   "cell_type": "code",
   "execution_count": 192,
   "metadata": {},
   "outputs": [
    {
     "name": "stdout",
     "output_type": "stream",
     "text": [
      "+------+------------------+----------+----------+--------------+---------------+-----------------+---------------------+----------------+-----------------+---------------+--------------+-------------+-----------+--------------+-------------+-----------+---------------+----------------+\n",
      "|userId|        avg_length|max_length|min_length|nextsong_count|thumbs_up_count|thumbs_down_count|add_to_playlist_count|add_friend_count|roll_advert_count|followed_artist|   joined_days|song_listened|song_played|gender_indexed|level_indexed|day_indexed|browser_indexed|platform_indexed|\n",
      "+------+------------------+----------+----------+--------------+---------------+-----------------+---------------------+----------------+-----------------+---------------+--------------+-------------+-----------+--------------+-------------+-----------+---------------+----------------+\n",
      "|    51| 247.8805508289911|2594.87302|   4.04853|          2111|            100|               21|                   52|              28|                0|           1386| 19.4558449074|         2111|       2464|           1.0|          0.0|        6.0|            0.0|             0.0|\n",
      "|   124|248.17653659965674|2369.04444|  18.05016|          4079|            171|               41|                  118|              74|                4|           2233|131.5559143519|         4079|       4825|           0.0|          0.0|        6.0|            0.0|             1.0|\n",
      "|     7|253.56058066666665|   878.602|   38.3473|           150|              7|                1|                    5|               1|               16|            143| 72.7781828704|          150|        201|           1.0|          1.0|        3.0|            2.0|             0.0|\n",
      "|    54|  250.385399345301| 1400.2673|  11.98975|          2841|            163|               29|                   72|              33|               47|           1745|110.7516898148|         2841|       3437|           0.0|          1.0|        6.0|            2.0|             0.0|\n",
      "|    15|249.37701452978044| 1373.6224|  21.91628|          1914|             81|               14|                   59|              31|                1|           1303| 56.5135763889|         1914|       2278|           1.0|          0.0|        6.0|            0.0|             0.0|\n",
      "+------+------------------+----------+----------+--------------+---------------+-----------------+---------------------+----------------+-----------------+---------------+--------------+-------------+-----------+--------------+-------------+-----------+---------------+----------------+\n",
      "only showing top 5 rows\n",
      "\n"
     ]
    }
   ],
   "source": [
    "data.show(5)"
   ]
  },
  {
   "cell_type": "code",
   "execution_count": 193,
   "metadata": {},
   "outputs": [],
   "source": [
    "labels = df.select(['userId','Churn']).dropDuplicates()"
   ]
  },
  {
   "cell_type": "code",
   "execution_count": 195,
   "metadata": {},
   "outputs": [
    {
     "name": "stdout",
     "output_type": "stream",
     "text": [
      "+------+------------------+----------+----------+--------------+---------------+-----------------+---------------------+----------------+-----------------+---------------+--------------+-------------+-----------+--------------+-------------+-----------+---------------+----------------+-----+\n",
      "|userId|        avg_length|max_length|min_length|nextsong_count|thumbs_up_count|thumbs_down_count|add_to_playlist_count|add_friend_count|roll_advert_count|followed_artist|   joined_days|song_listened|song_played|gender_indexed|level_indexed|day_indexed|browser_indexed|platform_indexed|Churn|\n",
      "+------+------------------+----------+----------+--------------+---------------+-----------------+---------------------+----------------+-----------------+---------------+--------------+-------------+-----------+--------------+-------------+-----------+---------------+----------------+-----+\n",
      "|    51| 247.8805508289911|2594.87302|   4.04853|          2111|            100|               21|                   52|              28|                0|           1386| 19.4558449074|         2111|       2464|           1.0|          0.0|        6.0|            0.0|             0.0|    1|\n",
      "|    51| 247.8805508289911|2594.87302|   4.04853|          2111|            100|               21|                   52|              28|                0|           1386| 19.4558449074|         2111|       2464|           1.0|          0.0|        6.0|            0.0|             0.0|    0|\n",
      "|   124|248.17653659965674|2369.04444|  18.05016|          4079|            171|               41|                  118|              74|                4|           2233|131.5559143519|         4079|       4825|           0.0|          0.0|        6.0|            0.0|             1.0|    0|\n",
      "|     7|253.56058066666665|   878.602|   38.3473|           150|              7|                1|                    5|               1|               16|            143| 72.7781828704|          150|        201|           1.0|          1.0|        3.0|            2.0|             0.0|    0|\n",
      "|    54|  250.385399345301| 1400.2673|  11.98975|          2841|            163|               29|                   72|              33|               47|           1745|110.7516898148|         2841|       3437|           0.0|          1.0|        6.0|            2.0|             0.0|    1|\n",
      "+------+------------------+----------+----------+--------------+---------------+-----------------+---------------------+----------------+-----------------+---------------+--------------+-------------+-----------+--------------+-------------+-----------+---------------+----------------+-----+\n",
      "only showing top 5 rows\n",
      "\n"
     ]
    }
   ],
   "source": [
    "data = data.join(labels, on=['userId'], how='inner')\n",
    "data.show(5)"
   ]
  },
  {
   "cell_type": "code",
   "execution_count": null,
   "metadata": {},
   "outputs": [],
   "source": [
    "# Normalize \n",
    "vector = VectorAssembler(inputCols=categorical_feature_names, \n",
    "                         outputCol='numerical_features')\n",
    "transform_fn = vector.transform(data)\n",
    "scaler = StandardScaler(withMean=True, withStd=True, \n",
    "                        inputCol='numerical_features', \n",
    "                        outputCol='features_scaled')\n",
    "_data = scaler.fit(transform_fn).transform(transform_fn)"
   ]
  },
  {
   "cell_type": "code",
   "execution_count": 205,
   "metadata": {},
   "outputs": [],
   "source": [
    "vector = VectorAssembler(inputCols=categorical_feature_names + ['features_scaled'], outputCol='features')\n",
    "final_data = vector.transform(_data)"
   ]
  },
  {
   "cell_type": "code",
   "execution_count": 206,
   "metadata": {},
   "outputs": [
    {
     "name": "stdout",
     "output_type": "stream",
     "text": [
      "+-----+--------------------+\n",
      "|label|            features|\n",
      "+-----+--------------------+\n",
      "|    1|[1.0,0.0,6.0,0.0,...|\n",
      "|    0|[1.0,0.0,6.0,0.0,...|\n",
      "|    0|[0.0,0.0,6.0,0.0,...|\n",
      "|    0|[1.0,1.0,3.0,2.0,...|\n",
      "|    1|[0.0,1.0,6.0,2.0,...|\n",
      "|    0|[0.0,1.0,6.0,2.0,...|\n",
      "|    0|[1.0,0.0,6.0,0.0,...|\n",
      "|    0|[0.0,1.0,6.0,1.0,...|\n",
      "|    1|[1.0,1.0,6.0,2.0,...|\n",
      "|    0|[1.0,1.0,6.0,2.0,...|\n",
      "|    0|[0.0,1.0,6.0,3.0,...|\n",
      "|    0|[1.0,1.0,6.0,1.0,...|\n",
      "|    1|[1.0,1.0,6.0,1.0,...|\n",
      "|    0|[1.0,1.0,6.0,1.0,...|\n",
      "|    0|[0.0,1.0,6.0,0.0,...|\n",
      "|    0|[0.0,1.0,6.0,0.0,...|\n",
      "|    0|[1.0,1.0,6.0,2.0,...|\n",
      "|    1|[1.0,1.0,6.0,0.0,...|\n",
      "|    0|[1.0,1.0,6.0,0.0,...|\n",
      "|    1|[0.0,1.0,3.0,2.0,...|\n",
      "+-----+--------------------+\n",
      "only showing top 20 rows\n",
      "\n"
     ]
    }
   ],
   "source": [
    "final_data = final_data.select([final_data.Churn.alias('label'), 'features'])\n",
    "final_data.show()"
   ]
  },
  {
   "cell_type": "markdown",
   "metadata": {},
   "source": [
    "# Modeling\n",
    "Split the full dataset into train, test, and validation sets. Test out several of the machine learning methods you learned. Evaluate the accuracy of the various models, tuning parameters as necessary. Determine your winning model based on test accuracy and report results on the validation set. Since the churned users are a fairly small subset, I suggest using F1 score as the metric to optimize."
   ]
  },
  {
   "cell_type": "code",
   "execution_count": 213,
   "metadata": {},
   "outputs": [],
   "source": [
    "train, test = final_data.randomSplit([0.8,0.2], seed=42)"
   ]
  },
  {
   "cell_type": "code",
   "execution_count": 214,
   "metadata": {},
   "outputs": [
    {
     "name": "stdout",
     "output_type": "stream",
     "text": [
      "#training sample 238\n",
      "#testing sample 42\n"
     ]
    }
   ],
   "source": [
    "print(\"#training sample\", train.count())\n",
    "# print(\"#validation sample\", dev.count())\n",
    "print(\"#testing sample\", test.count())"
   ]
  },
  {
   "cell_type": "code",
   "execution_count": 221,
   "metadata": {},
   "outputs": [],
   "source": [
    "# Initialize models\n",
    "lr = LogisticRegression(maxIter=50)\n",
    "\n",
    "rf = RandomForestClassifier(seed=10) \n",
    "\n",
    "dt = DecisionTreeClassifier(seed=42)\n",
    "\n",
    "svm = LinearSVC()"
   ]
  },
  {
   "cell_type": "code",
   "execution_count": 212,
   "metadata": {},
   "outputs": [],
   "source": [
    "evaluator = MulticlassClassificationEvaluator(predictionCol=\"prediction\")"
   ]
  },
  {
   "cell_type": "markdown",
   "metadata": {},
   "source": [
    "# Final Steps\n",
    "Clean up your code, adding comments and renaming variables to make the code easier to read and maintain. Refer to the Spark Project Overview page and Data Scientist Capstone Project Rubric to make sure you are including all components of the capstone project and meet all expectations. Remember, this includes thorough documentation in a README file in a Github repository, as well as a web app or blog post."
   ]
  },
  {
   "cell_type": "code",
   "execution_count": 220,
   "metadata": {},
   "outputs": [],
   "source": [
    "def train_and_evaluate(clf, train, test):\n",
    "    '''Train and evaluate the model'''\n",
    "    print('='*50)\n",
    "    print(f'Start training {clf.__class__.__name__}')\n",
    "    model = clf.fit(train)\n",
    "    pred_test = model.transform(test)\n",
    "\n",
    "    #metrics\n",
    "    precision = evaluator.evaluate(pred_test.select('label','prediction'), {evaluator.metricName: 'precisionByLabel'})\n",
    "    recall = evaluator.evaluate(pred_test.select('label','prediction'), {evaluator.metricName: 'recallByLabel'})\n",
    "    acc = evaluator.evaluate(pred_test.select('label','prediction'), {evaluator.metricName: 'accuracy'})\n",
    "    f1 = evaluator.evaluate(pred_test.select('label','prediction'), {evaluator.metricName: 'f1'})\n",
    "    print(f'{clf.__class__.__name__}')\n",
    "    print('Accuracy:', acc)\n",
    "    print('Precision:', precision)\n",
    "    print('Recall:', recall)\n",
    "    print('F1:', f1)\n",
    "\n",
    "    return dict(name=clf.__class__.__name__, f1=f1, precision=precision, recall=recall, accuracy=acc)"
   ]
  },
  {
   "cell_type": "code",
   "execution_count": 222,
   "metadata": {},
   "outputs": [
    {
     "name": "stdout",
     "output_type": "stream",
     "text": [
      "==================================================\n",
      "Start training LogisticRegression\n",
      "LogisticRegression\n",
      "Accuracy: 0.8333333333333334\n",
      "Precision: 0.8333333333333334\n",
      "Recall: 1.0\n",
      "F1: 0.7575757575757576\n",
      "==================================================\n",
      "Start training RandomForestClassifier\n",
      "RandomForestClassifier\n",
      "Accuracy: 0.8095238095238095\n",
      "Precision: 0.8292682926829268\n",
      "Recall: 0.9714285714285714\n",
      "F1: 0.7456140350877194\n",
      "==================================================\n",
      "Start training DecisionTreeClassifier\n",
      "DecisionTreeClassifier\n",
      "Accuracy: 0.7857142857142857\n",
      "Precision: 0.825\n",
      "Recall: 0.9428571428571428\n",
      "F1: 0.7333333333333334\n",
      "==================================================\n",
      "Start training LinearSVC\n",
      "LinearSVC\n",
      "Accuracy: 0.8333333333333334\n",
      "Precision: 0.8333333333333334\n",
      "Recall: 1.0\n",
      "F1: 0.7575757575757576\n"
     ]
    }
   ],
   "source": [
    "res = []\n",
    "for model in [lr, rf, dt, svm]:\n",
    "    res.append(train_and_evaluate(model, train, test))"
   ]
  },
  {
   "cell_type": "code",
   "execution_count": 235,
   "metadata": {},
   "outputs": [
    {
     "data": {
      "text/html": [
       "<div>\n",
       "<style scoped>\n",
       "    .dataframe tbody tr th:only-of-type {\n",
       "        vertical-align: middle;\n",
       "    }\n",
       "\n",
       "    .dataframe tbody tr th {\n",
       "        vertical-align: top;\n",
       "    }\n",
       "\n",
       "    .dataframe thead th {\n",
       "        text-align: right;\n",
       "    }\n",
       "</style>\n",
       "<table border=\"1\" class=\"dataframe\">\n",
       "  <thead>\n",
       "    <tr style=\"text-align: right;\">\n",
       "      <th></th>\n",
       "      <th>name</th>\n",
       "      <th>f1</th>\n",
       "      <th>precision</th>\n",
       "      <th>recall</th>\n",
       "      <th>accuracy</th>\n",
       "    </tr>\n",
       "  </thead>\n",
       "  <tbody>\n",
       "    <tr>\n",
       "      <th>0</th>\n",
       "      <td>LogisticRegression</td>\n",
       "      <td>0.757576</td>\n",
       "      <td>0.833333</td>\n",
       "      <td>1.000000</td>\n",
       "      <td>0.833333</td>\n",
       "    </tr>\n",
       "    <tr>\n",
       "      <th>1</th>\n",
       "      <td>RandomForestClassifier</td>\n",
       "      <td>0.745614</td>\n",
       "      <td>0.829268</td>\n",
       "      <td>0.971429</td>\n",
       "      <td>0.809524</td>\n",
       "    </tr>\n",
       "    <tr>\n",
       "      <th>2</th>\n",
       "      <td>DecisionTreeClassifier</td>\n",
       "      <td>0.733333</td>\n",
       "      <td>0.825000</td>\n",
       "      <td>0.942857</td>\n",
       "      <td>0.785714</td>\n",
       "    </tr>\n",
       "    <tr>\n",
       "      <th>3</th>\n",
       "      <td>LinearSVC</td>\n",
       "      <td>0.757576</td>\n",
       "      <td>0.833333</td>\n",
       "      <td>1.000000</td>\n",
       "      <td>0.833333</td>\n",
       "    </tr>\n",
       "  </tbody>\n",
       "</table>\n",
       "</div>"
      ],
      "text/plain": [
       "                     name        f1  precision    recall  accuracy\n",
       "0      LogisticRegression  0.757576   0.833333  1.000000  0.833333\n",
       "1  RandomForestClassifier  0.745614   0.829268  0.971429  0.809524\n",
       "2  DecisionTreeClassifier  0.733333   0.825000  0.942857  0.785714\n",
       "3               LinearSVC  0.757576   0.833333  1.000000  0.833333"
      ]
     },
     "execution_count": 235,
     "metadata": {},
     "output_type": "execute_result"
    }
   ],
   "source": [
    "res_df = pd.DataFrame.from_records(res)\n",
    "res_df"
   ]
  },
  {
   "cell_type": "markdown",
   "metadata": {},
   "source": [
    "Tuning model"
   ]
  },
  {
   "cell_type": "code",
   "execution_count": 226,
   "metadata": {},
   "outputs": [
    {
     "name": "stdout",
     "output_type": "stream",
     "text": [
      "aggregationDepth: suggested depth for treeAggregate (>= 2). (default: 2)\n",
      "featuresCol: features column name. (default: features)\n",
      "fitIntercept: whether to fit an intercept term. (default: True)\n",
      "labelCol: label column name. (default: label)\n",
      "maxBlockSizeInMB: maximum memory in MB for stacking input data into blocks. Data is stacked within partitions. If more than remaining data size in a partition then it is adjusted to the data size. Default 0.0 represents choosing optimal value, depends on specific algorithm. Must be >= 0. (default: 0.0)\n",
      "maxIter: max number of iterations (>= 0). (default: 100)\n",
      "predictionCol: prediction column name. (default: prediction)\n",
      "rawPredictionCol: raw prediction (a.k.a. confidence) column name. (default: rawPrediction)\n",
      "regParam: regularization parameter (>= 0). (default: 0.0)\n",
      "standardization: whether to standardize the training features before fitting the model. (default: True)\n",
      "threshold: The threshold in binary classification applied to the linear model prediction.  This threshold can be any real number, where Inf will make all predictions 0.0 and -Inf will make all predictions 1.0. (default: 0.0)\n",
      "tol: the convergence tolerance for iterative algorithms (>= 0). (default: 1e-06)\n",
      "weightCol: weight column name. If this is not set or empty, we treat all instance weights as 1.0. (undefined)\n"
     ]
    }
   ],
   "source": [
    "print(svm.explainParams())"
   ]
  },
  {
   "cell_type": "code",
   "execution_count": null,
   "metadata": {},
   "outputs": [],
   "source": [
    "param_grid = ParamGridBuilder() \\\n",
    "    .addGrid(svm.aggregationDepth,[2, 4, 6]) \\\n",
    "    .addGrid(svm.maxIter,[100, 150, 200]) \\\n",
    "    .build()\n",
    "\n",
    "\n",
    "cv_fn = CrossValidator(estimator=svm, estimatorParamMaps=param_grid, numFolds=3,\n",
    "                          evaluator=MulticlassClassificationEvaluator(metricName = \"f1\"))"
   ]
  },
  {
   "cell_type": "code",
   "execution_count": 231,
   "metadata": {},
   "outputs": [
    {
     "name": "stdout",
     "output_type": "stream",
     "text": [
      "CPU times: user 2.41 s, sys: 828 ms, total: 3.24 s\n",
      "Wall time: 3min 53s\n"
     ]
    }
   ],
   "source": [
    "%%time\n",
    "cv_svm = cv_fn.fit(train, )"
   ]
  },
  {
   "cell_type": "code",
   "execution_count": null,
   "metadata": {},
   "outputs": [],
   "source": [
    "pred_test = cv_svm.transform(test)\n",
    "precision = evaluator.evaluate(pred_test.select('label','prediction'), {evaluator.metricName: 'precisionByLabel'})\n",
    "recall = evaluator.evaluate(pred_test.select('label','prediction'), {evaluator.metricName: 'recallByLabel'})\n",
    "acc = evaluator.evaluate(pred_test.select('label','prediction'), {evaluator.metricName: 'accuracy'})\n",
    "f1 = evaluator.evaluate(pred_test.select('label','prediction'), {evaluator.metricName: 'f1'})\n"
   ]
  },
  {
   "cell_type": "code",
   "execution_count": 241,
   "metadata": {},
   "outputs": [
    {
     "data": {
      "text/html": [
       "<div>\n",
       "<style scoped>\n",
       "    .dataframe tbody tr th:only-of-type {\n",
       "        vertical-align: middle;\n",
       "    }\n",
       "\n",
       "    .dataframe tbody tr th {\n",
       "        vertical-align: top;\n",
       "    }\n",
       "\n",
       "    .dataframe thead th {\n",
       "        text-align: right;\n",
       "    }\n",
       "</style>\n",
       "<table border=\"1\" class=\"dataframe\">\n",
       "  <thead>\n",
       "    <tr style=\"text-align: right;\">\n",
       "      <th></th>\n",
       "      <th>name</th>\n",
       "      <th>f1</th>\n",
       "      <th>precision</th>\n",
       "      <th>recall</th>\n",
       "      <th>accuracy</th>\n",
       "    </tr>\n",
       "  </thead>\n",
       "  <tbody>\n",
       "    <tr>\n",
       "      <th>0</th>\n",
       "      <td>LogisticRegression</td>\n",
       "      <td>0.757576</td>\n",
       "      <td>0.833333</td>\n",
       "      <td>1.000000</td>\n",
       "      <td>0.833333</td>\n",
       "    </tr>\n",
       "    <tr>\n",
       "      <th>1</th>\n",
       "      <td>RandomForestClassifier</td>\n",
       "      <td>0.745614</td>\n",
       "      <td>0.829268</td>\n",
       "      <td>0.971429</td>\n",
       "      <td>0.809524</td>\n",
       "    </tr>\n",
       "    <tr>\n",
       "      <th>2</th>\n",
       "      <td>DecisionTreeClassifier</td>\n",
       "      <td>0.733333</td>\n",
       "      <td>0.825000</td>\n",
       "      <td>0.942857</td>\n",
       "      <td>0.785714</td>\n",
       "    </tr>\n",
       "    <tr>\n",
       "      <th>3</th>\n",
       "      <td>LinearSVC</td>\n",
       "      <td>0.757576</td>\n",
       "      <td>0.833333</td>\n",
       "      <td>1.000000</td>\n",
       "      <td>0.833333</td>\n",
       "    </tr>\n",
       "    <tr>\n",
       "      <th>4</th>\n",
       "      <td>SVM (cv)</td>\n",
       "      <td>0.757576</td>\n",
       "      <td>0.833333</td>\n",
       "      <td>1.000000</td>\n",
       "      <td>0.833333</td>\n",
       "    </tr>\n",
       "  </tbody>\n",
       "</table>\n",
       "</div>"
      ],
      "text/plain": [
       "                     name        f1  precision    recall  accuracy\n",
       "0      LogisticRegression  0.757576   0.833333  1.000000  0.833333\n",
       "1  RandomForestClassifier  0.745614   0.829268  0.971429  0.809524\n",
       "2  DecisionTreeClassifier  0.733333   0.825000  0.942857  0.785714\n",
       "3               LinearSVC  0.757576   0.833333  1.000000  0.833333\n",
       "4                SVM (cv)  0.757576   0.833333  1.000000  0.833333"
      ]
     },
     "execution_count": 241,
     "metadata": {},
     "output_type": "execute_result"
    }
   ],
   "source": [
    "res_df.loc[len(res_df.index)] = [\"SVM (cv)\", f1, precision, recall, acc]\n",
    "res_df"
   ]
  },
  {
   "cell_type": "markdown",
   "metadata": {},
   "source": [
    "# Conclusion"
   ]
  },
  {
   "cell_type": "markdown",
   "metadata": {},
   "source": [
    "As we can see in the result dataframe, with a high quality data, the logistic regression can be compariable with linear SVC (which achieve same f1 score and accuracy)."
   ]
  },
  {
   "cell_type": "markdown",
   "metadata": {},
   "source": [
    "# Final Steps\n",
    "\n",
    "Clean up your code, adding comments and renaming variables to make the code easier to read and maintain. Refer to the Spark Project Overview page and Data Scientist Capstone Project Rubric to make sure you are including all components of the capstone project and meet all expectations. Remember, this includes thorough documentation in a README file in a Github repository, as well as a web app or blog post."
   ]
  },
  {
   "cell_type": "code",
   "execution_count": null,
   "metadata": {},
   "outputs": [],
   "source": [
    "%jupyter nbconvert --to html notebook.ipynb"
   ]
  }
 ],
 "metadata": {
  "kernelspec": {
   "display_name": "Python 3 (ipykernel)",
   "language": "python",
   "name": "python3"
  },
  "language_info": {
   "codemirror_mode": {
    "name": "ipython",
    "version": 3
   },
   "file_extension": ".py",
   "mimetype": "text/x-python",
   "name": "python",
   "nbconvert_exporter": "python",
   "pygments_lexer": "ipython3",
   "version": "3.11.6"
  }
 },
 "nbformat": 4,
 "nbformat_minor": 2
}
